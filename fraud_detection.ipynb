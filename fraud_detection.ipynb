{
 "cells": [
  {
   "cell_type": "markdown",
   "metadata": {},
   "source": [
    "# Financial Fraud Detection"
   ]
  },
  {
   "cell_type": "code",
   "execution_count": 1,
   "metadata": {},
   "outputs": [],
   "source": [
    "import pandas as pd\n",
    "import numpy as np\n",
    "import matplotlib.pyplot as plt\n",
    "%matplotlib inline\n",
    "import seaborn as sns\n",
    "sns.set()\n",
    "\n",
    "import time\n",
    "\n",
    "import sklearn\n",
    "from sklearn import metrics\n",
    "from sklearn.metrics import roc_curve, auc, roc_auc_score \n",
    "from sklearn.metrics import classification_report,confusion_matrix, recall_score, precision_score\n",
    "from sklearn.metrics import average_precision_score, precision_recall_curve\n",
    "\n",
    "from sklearn.model_selection import train_test_split\n",
    "from sklearn.model_selection import StratifiedKFold\n",
    "from sklearn.model_selection import GridSearchCV, RandomizedSearchCV\n",
    "\n",
    "from sklearn.linear_model import Ridge, Lasso, LogisticRegression\n",
    "from sklearn.neighbors import KNeighborsClassifier\n",
    "from sklearn.linear_model import LogisticRegressionCV\n",
    "from sklearn.tree import DecisionTreeClassifier\n",
    "from sklearn.ensemble import AdaBoostClassifier\n",
    "from sklearn.ensemble import RandomForestClassifier\n",
    "import xgboost as xgb\n",
    "from xgboost import XGBClassifier\n",
    "from xgboost import plot_importance\n",
    "from sklearn.ensemble import AdaBoostClassifier\n",
    "\n",
    "import warnings\n",
    "warnings.filterwarnings('ignore')"
   ]
  },
  {
   "cell_type": "markdown",
   "metadata": {},
   "source": [
    "### Load Dataset"
   ]
  },
  {
   "cell_type": "code",
   "execution_count": 2,
   "metadata": {},
   "outputs": [],
   "source": [
    "df = pd.read_csv(\"fraud.csv\")"
   ]
  },
  {
   "cell_type": "code",
   "execution_count": 3,
   "metadata": {},
   "outputs": [
    {
     "data": {
      "text/html": [
       "<div>\n",
       "<style scoped>\n",
       "    .dataframe tbody tr th:only-of-type {\n",
       "        vertical-align: middle;\n",
       "    }\n",
       "\n",
       "    .dataframe tbody tr th {\n",
       "        vertical-align: top;\n",
       "    }\n",
       "\n",
       "    .dataframe thead th {\n",
       "        text-align: right;\n",
       "    }\n",
       "</style>\n",
       "<table border=\"1\" class=\"dataframe\">\n",
       "  <thead>\n",
       "    <tr style=\"text-align: right;\">\n",
       "      <th></th>\n",
       "      <th>step</th>\n",
       "      <th>type</th>\n",
       "      <th>amount</th>\n",
       "      <th>nameOrig</th>\n",
       "      <th>oldbalanceOrg</th>\n",
       "      <th>newbalanceOrig</th>\n",
       "      <th>nameDest</th>\n",
       "      <th>oldbalanceDest</th>\n",
       "      <th>newbalanceDest</th>\n",
       "      <th>isFraud</th>\n",
       "      <th>isFlaggedFraud</th>\n",
       "    </tr>\n",
       "  </thead>\n",
       "  <tbody>\n",
       "    <tr>\n",
       "      <th>0</th>\n",
       "      <td>1</td>\n",
       "      <td>PAYMENT</td>\n",
       "      <td>9839.64</td>\n",
       "      <td>C1231006815</td>\n",
       "      <td>170136.0</td>\n",
       "      <td>160296.36</td>\n",
       "      <td>M1979787155</td>\n",
       "      <td>0.0</td>\n",
       "      <td>0.0</td>\n",
       "      <td>0</td>\n",
       "      <td>0</td>\n",
       "    </tr>\n",
       "    <tr>\n",
       "      <th>1</th>\n",
       "      <td>1</td>\n",
       "      <td>PAYMENT</td>\n",
       "      <td>1864.28</td>\n",
       "      <td>C1666544295</td>\n",
       "      <td>21249.0</td>\n",
       "      <td>19384.72</td>\n",
       "      <td>M2044282225</td>\n",
       "      <td>0.0</td>\n",
       "      <td>0.0</td>\n",
       "      <td>0</td>\n",
       "      <td>0</td>\n",
       "    </tr>\n",
       "    <tr>\n",
       "      <th>2</th>\n",
       "      <td>1</td>\n",
       "      <td>TRANSFER</td>\n",
       "      <td>181.00</td>\n",
       "      <td>C1305486145</td>\n",
       "      <td>181.0</td>\n",
       "      <td>0.00</td>\n",
       "      <td>C553264065</td>\n",
       "      <td>0.0</td>\n",
       "      <td>0.0</td>\n",
       "      <td>1</td>\n",
       "      <td>0</td>\n",
       "    </tr>\n",
       "    <tr>\n",
       "      <th>3</th>\n",
       "      <td>1</td>\n",
       "      <td>CASH_OUT</td>\n",
       "      <td>181.00</td>\n",
       "      <td>C840083671</td>\n",
       "      <td>181.0</td>\n",
       "      <td>0.00</td>\n",
       "      <td>C38997010</td>\n",
       "      <td>21182.0</td>\n",
       "      <td>0.0</td>\n",
       "      <td>1</td>\n",
       "      <td>0</td>\n",
       "    </tr>\n",
       "    <tr>\n",
       "      <th>4</th>\n",
       "      <td>1</td>\n",
       "      <td>PAYMENT</td>\n",
       "      <td>11668.14</td>\n",
       "      <td>C2048537720</td>\n",
       "      <td>41554.0</td>\n",
       "      <td>29885.86</td>\n",
       "      <td>M1230701703</td>\n",
       "      <td>0.0</td>\n",
       "      <td>0.0</td>\n",
       "      <td>0</td>\n",
       "      <td>0</td>\n",
       "    </tr>\n",
       "  </tbody>\n",
       "</table>\n",
       "</div>"
      ],
      "text/plain": [
       "   step      type    amount     nameOrig  oldbalanceOrg  newbalanceOrig  \\\n",
       "0     1   PAYMENT   9839.64  C1231006815       170136.0       160296.36   \n",
       "1     1   PAYMENT   1864.28  C1666544295        21249.0        19384.72   \n",
       "2     1  TRANSFER    181.00  C1305486145          181.0            0.00   \n",
       "3     1  CASH_OUT    181.00   C840083671          181.0            0.00   \n",
       "4     1   PAYMENT  11668.14  C2048537720        41554.0        29885.86   \n",
       "\n",
       "      nameDest  oldbalanceDest  newbalanceDest  isFraud  isFlaggedFraud  \n",
       "0  M1979787155             0.0             0.0        0               0  \n",
       "1  M2044282225             0.0             0.0        0               0  \n",
       "2   C553264065             0.0             0.0        1               0  \n",
       "3    C38997010         21182.0             0.0        1               0  \n",
       "4  M1230701703             0.0             0.0        0               0  "
      ]
     },
     "execution_count": 3,
     "metadata": {},
     "output_type": "execute_result"
    }
   ],
   "source": [
    "df.head()"
   ]
  },
  {
   "cell_type": "code",
   "execution_count": 4,
   "metadata": {},
   "outputs": [
    {
     "name": "stdout",
     "output_type": "stream",
     "text": [
      "<class 'pandas.core.frame.DataFrame'>\n",
      "RangeIndex: 6362620 entries, 0 to 6362619\n",
      "Data columns (total 11 columns):\n",
      " #   Column          Dtype  \n",
      "---  ------          -----  \n",
      " 0   step            int64  \n",
      " 1   type            object \n",
      " 2   amount          float64\n",
      " 3   nameOrig        object \n",
      " 4   oldbalanceOrg   float64\n",
      " 5   newbalanceOrig  float64\n",
      " 6   nameDest        object \n",
      " 7   oldbalanceDest  float64\n",
      " 8   newbalanceDest  float64\n",
      " 9   isFraud         int64  \n",
      " 10  isFlaggedFraud  int64  \n",
      "dtypes: float64(5), int64(3), object(3)\n",
      "memory usage: 534.0+ MB\n"
     ]
    }
   ],
   "source": [
    "df.info()"
   ]
  },
  {
   "cell_type": "code",
   "execution_count": 5,
   "metadata": {},
   "outputs": [
    {
     "data": {
      "text/html": [
       "<div>\n",
       "<style scoped>\n",
       "    .dataframe tbody tr th:only-of-type {\n",
       "        vertical-align: middle;\n",
       "    }\n",
       "\n",
       "    .dataframe tbody tr th {\n",
       "        vertical-align: top;\n",
       "    }\n",
       "\n",
       "    .dataframe thead th {\n",
       "        text-align: right;\n",
       "    }\n",
       "</style>\n",
       "<table border=\"1\" class=\"dataframe\">\n",
       "  <thead>\n",
       "    <tr style=\"text-align: right;\">\n",
       "      <th></th>\n",
       "      <th>step</th>\n",
       "      <th>amount</th>\n",
       "      <th>oldbalanceOrg</th>\n",
       "      <th>newbalanceOrig</th>\n",
       "      <th>oldbalanceDest</th>\n",
       "      <th>newbalanceDest</th>\n",
       "      <th>isFraud</th>\n",
       "      <th>isFlaggedFraud</th>\n",
       "    </tr>\n",
       "  </thead>\n",
       "  <tbody>\n",
       "    <tr>\n",
       "      <th>count</th>\n",
       "      <td>6.362620e+06</td>\n",
       "      <td>6.362620e+06</td>\n",
       "      <td>6.362620e+06</td>\n",
       "      <td>6.362620e+06</td>\n",
       "      <td>6.362620e+06</td>\n",
       "      <td>6.362620e+06</td>\n",
       "      <td>6.362620e+06</td>\n",
       "      <td>6.362620e+06</td>\n",
       "    </tr>\n",
       "    <tr>\n",
       "      <th>mean</th>\n",
       "      <td>2.433972e+02</td>\n",
       "      <td>1.798619e+05</td>\n",
       "      <td>8.338831e+05</td>\n",
       "      <td>8.551137e+05</td>\n",
       "      <td>1.100702e+06</td>\n",
       "      <td>1.224996e+06</td>\n",
       "      <td>1.290820e-03</td>\n",
       "      <td>2.514687e-06</td>\n",
       "    </tr>\n",
       "    <tr>\n",
       "      <th>std</th>\n",
       "      <td>1.423320e+02</td>\n",
       "      <td>6.038582e+05</td>\n",
       "      <td>2.888243e+06</td>\n",
       "      <td>2.924049e+06</td>\n",
       "      <td>3.399180e+06</td>\n",
       "      <td>3.674129e+06</td>\n",
       "      <td>3.590480e-02</td>\n",
       "      <td>1.585775e-03</td>\n",
       "    </tr>\n",
       "    <tr>\n",
       "      <th>min</th>\n",
       "      <td>1.000000e+00</td>\n",
       "      <td>0.000000e+00</td>\n",
       "      <td>0.000000e+00</td>\n",
       "      <td>0.000000e+00</td>\n",
       "      <td>0.000000e+00</td>\n",
       "      <td>0.000000e+00</td>\n",
       "      <td>0.000000e+00</td>\n",
       "      <td>0.000000e+00</td>\n",
       "    </tr>\n",
       "    <tr>\n",
       "      <th>25%</th>\n",
       "      <td>1.560000e+02</td>\n",
       "      <td>1.338957e+04</td>\n",
       "      <td>0.000000e+00</td>\n",
       "      <td>0.000000e+00</td>\n",
       "      <td>0.000000e+00</td>\n",
       "      <td>0.000000e+00</td>\n",
       "      <td>0.000000e+00</td>\n",
       "      <td>0.000000e+00</td>\n",
       "    </tr>\n",
       "    <tr>\n",
       "      <th>50%</th>\n",
       "      <td>2.390000e+02</td>\n",
       "      <td>7.487194e+04</td>\n",
       "      <td>1.420800e+04</td>\n",
       "      <td>0.000000e+00</td>\n",
       "      <td>1.327057e+05</td>\n",
       "      <td>2.146614e+05</td>\n",
       "      <td>0.000000e+00</td>\n",
       "      <td>0.000000e+00</td>\n",
       "    </tr>\n",
       "    <tr>\n",
       "      <th>75%</th>\n",
       "      <td>3.350000e+02</td>\n",
       "      <td>2.087215e+05</td>\n",
       "      <td>1.073152e+05</td>\n",
       "      <td>1.442584e+05</td>\n",
       "      <td>9.430367e+05</td>\n",
       "      <td>1.111909e+06</td>\n",
       "      <td>0.000000e+00</td>\n",
       "      <td>0.000000e+00</td>\n",
       "    </tr>\n",
       "    <tr>\n",
       "      <th>max</th>\n",
       "      <td>7.430000e+02</td>\n",
       "      <td>9.244552e+07</td>\n",
       "      <td>5.958504e+07</td>\n",
       "      <td>4.958504e+07</td>\n",
       "      <td>3.560159e+08</td>\n",
       "      <td>3.561793e+08</td>\n",
       "      <td>1.000000e+00</td>\n",
       "      <td>1.000000e+00</td>\n",
       "    </tr>\n",
       "  </tbody>\n",
       "</table>\n",
       "</div>"
      ],
      "text/plain": [
       "               step        amount  oldbalanceOrg  newbalanceOrig  \\\n",
       "count  6.362620e+06  6.362620e+06   6.362620e+06    6.362620e+06   \n",
       "mean   2.433972e+02  1.798619e+05   8.338831e+05    8.551137e+05   \n",
       "std    1.423320e+02  6.038582e+05   2.888243e+06    2.924049e+06   \n",
       "min    1.000000e+00  0.000000e+00   0.000000e+00    0.000000e+00   \n",
       "25%    1.560000e+02  1.338957e+04   0.000000e+00    0.000000e+00   \n",
       "50%    2.390000e+02  7.487194e+04   1.420800e+04    0.000000e+00   \n",
       "75%    3.350000e+02  2.087215e+05   1.073152e+05    1.442584e+05   \n",
       "max    7.430000e+02  9.244552e+07   5.958504e+07    4.958504e+07   \n",
       "\n",
       "       oldbalanceDest  newbalanceDest       isFraud  isFlaggedFraud  \n",
       "count    6.362620e+06    6.362620e+06  6.362620e+06    6.362620e+06  \n",
       "mean     1.100702e+06    1.224996e+06  1.290820e-03    2.514687e-06  \n",
       "std      3.399180e+06    3.674129e+06  3.590480e-02    1.585775e-03  \n",
       "min      0.000000e+00    0.000000e+00  0.000000e+00    0.000000e+00  \n",
       "25%      0.000000e+00    0.000000e+00  0.000000e+00    0.000000e+00  \n",
       "50%      1.327057e+05    2.146614e+05  0.000000e+00    0.000000e+00  \n",
       "75%      9.430367e+05    1.111909e+06  0.000000e+00    0.000000e+00  \n",
       "max      3.560159e+08    3.561793e+08  1.000000e+00    1.000000e+00  "
      ]
     },
     "execution_count": 5,
     "metadata": {},
     "output_type": "execute_result"
    }
   ],
   "source": [
    "df.describe()"
   ]
  },
  {
   "cell_type": "markdown",
   "metadata": {
    "tags": []
   },
   "source": [
    "### Columns\n",
    "- step: Maps a unit of time in the real world. In this case 1 step is 1 hour of time. Total steps = 744 (30 days simulation).\n",
    "- type: CASH-IN, CASH-OUT, DEBIT, PAYMENT and TRANSFER.\n",
    "- amount: Amount of the transaction in local currency.\n",
    "- nameOrig: Customer who started the transaction.\n",
    "- oldbalanceOrg: Initial balance before the transaction.\n",
    "- newbalanceOrig: New balance after the transaction.\n",
    "- nameDest: Customer who is the recipient of the transaction.\n",
    "- oldbalanceDest: Initial balance recipient before the transaction. Note that there is no information for customers that start with M (Merchants).\n",
    "- newbalanceDest: New balance recipient after the transaction. Note that there is no information for customers that start with M (Merchants).\n",
    "- isFraud: This is the transactions made by the fraudulent agents inside the simulation. In this specific dataset the fraudulent behavior of the agents aims to profit **by taking control or customers accounts and try to empty the funds by transferring to another account and then cashing out of the system**.\n",
    "- isFlaggedFraud: The business model aims to control massive transfers from one account to another and flags illegal attempts. **An illegal attempt in this dataset is an attempt to transfer more than 200.000 in a single transaction**."
   ]
  },
  {
   "cell_type": "code",
   "execution_count": 6,
   "metadata": {},
   "outputs": [
    {
     "data": {
      "text/plain": [
       "step              False\n",
       "type              False\n",
       "amount            False\n",
       "nameOrig          False\n",
       "oldbalanceOrg     False\n",
       "newbalanceOrig    False\n",
       "nameDest          False\n",
       "oldbalanceDest    False\n",
       "newbalanceDest    False\n",
       "isFraud           False\n",
       "isFlaggedFraud    False\n",
       "dtype: bool"
      ]
     },
     "execution_count": 6,
     "metadata": {},
     "output_type": "execute_result"
    }
   ],
   "source": [
    "df.isnull().any()"
   ]
  },
  {
   "cell_type": "markdown",
   "metadata": {},
   "source": [
    "**Findings:**\n",
    "- There are over 6 million observations.\n",
    "- There are 11 valiables.\n",
    "- There are no missing values.\n",
    "- Most transactions involve amounts less than 1 million."
   ]
  },
  {
   "cell_type": "markdown",
   "metadata": {},
   "source": [
    "#### Correct spelling of original column headers for consistency"
   ]
  },
  {
   "cell_type": "code",
   "execution_count": 7,
   "metadata": {},
   "outputs": [],
   "source": [
    "df = df.rename(columns={'oldbalanceOrg':'oldBalanceOrig', 'newbalanceOrig':'newBalanceOrig', \\\n",
    "                        'oldbalanceDest':'oldBalanceDest', 'newbalanceDest':'newBalanceDest'})"
   ]
  },
  {
   "cell_type": "markdown",
   "metadata": {},
   "source": [
    "# Exploratory Data Analysis"
   ]
  },
  {
   "cell_type": "markdown",
   "metadata": {},
   "source": [
    "### Fraudulent Transactions"
   ]
  },
  {
   "cell_type": "code",
   "execution_count": 8,
   "metadata": {},
   "outputs": [
    {
     "data": {
      "text/plain": [
       "0    6354407\n",
       "1       8213\n",
       "Name: isFraud, dtype: int64"
      ]
     },
     "execution_count": 8,
     "metadata": {},
     "output_type": "execute_result"
    }
   ],
   "source": [
    "df[\"isFraud\"].value_counts()"
   ]
  },
  {
   "cell_type": "code",
   "execution_count": 9,
   "metadata": {},
   "outputs": [
    {
     "name": "stdout",
     "output_type": "stream",
     "text": [
      "Non-fraudulent transactions: 99.87 % of the dataset.\n",
      "Fraudulent transactions: 0.13 % of the dataset.\n"
     ]
    }
   ],
   "source": [
    "print(\"Non-fraudulent transactions: {} % of the dataset.\".format(\\\n",
    "                        round(df[\"isFraud\"].value_counts()[0]/len(df) * 100, 2)))\n",
    "print(\"Fraudulent transactions: {} % of the dataset.\".format(\\\n",
    "                        round(df[\"isFraud\"].value_counts()[1]/len(df) * 100, 2)))"
   ]
  },
  {
   "cell_type": "code",
   "execution_count": 10,
   "metadata": {},
   "outputs": [
    {
     "data": {
      "text/plain": [
       "['TRANSFER', 'CASH_OUT']"
      ]
     },
     "execution_count": 10,
     "metadata": {},
     "output_type": "execute_result"
    }
   ],
   "source": [
    "list(df.loc[df[\"isFraud\"] == 1][\"type\"].drop_duplicates().values)"
   ]
  },
  {
   "cell_type": "code",
   "execution_count": 11,
   "metadata": {},
   "outputs": [],
   "source": [
    "dfNotFraud = df.loc[df[\"isFraud\"] == 0]\n",
    "dfFraud = df.loc[df[\"isFraud\"] == 1]\n",
    "transferFrauds = df.loc[(df[\"isFraud\"] == 1) & (df[\"type\"] == 'TRANSFER')]\n",
    "cashoutFrauds = df.loc[(df[\"isFraud\"] == 1) & (df[\"type\"] == 'CASH_OUT')]"
   ]
  },
  {
   "cell_type": "code",
   "execution_count": 12,
   "metadata": {},
   "outputs": [
    {
     "name": "stdout",
     "output_type": "stream",
     "text": [
      "There are 4097 fraudulent transfers.\n",
      "There are 4116 fraudulent cashouts.\n"
     ]
    }
   ],
   "source": [
    "print(\"There are {} fraudulent transfers.\".format(len(transferFrauds)))\n",
    "print(\"There are {} fraudulent cashouts.\".format(len(cashoutFrauds)))"
   ]
  },
  {
   "cell_type": "markdown",
   "metadata": {},
   "source": [
    "**Findings:**\n",
    "- The data is highly imbalanced. Most observations in the dataset are of valid transactions, only 0.13% are fraudulent.\n",
    "- From the dataset, it seems that fraudulent transactions only occur when the transaction type is either TRANSFER or CASH-OUT."
   ]
  },
  {
   "cell_type": "markdown",
   "metadata": {},
   "source": [
    "### Flagged as Fraudulent Transactions"
   ]
  },
  {
   "cell_type": "code",
   "execution_count": 14,
   "metadata": {},
   "outputs": [
    {
     "data": {
      "text/plain": [
       "0    6362604\n",
       "1         16\n",
       "Name: isFlaggedFraud, dtype: int64"
      ]
     },
     "execution_count": 14,
     "metadata": {},
     "output_type": "execute_result"
    }
   ],
   "source": [
    "df[\"isFlaggedFraud\"].value_counts()"
   ]
  },
  {
   "cell_type": "code",
   "execution_count": 15,
   "metadata": {},
   "outputs": [
    {
     "data": {
      "text/plain": [
       "['TRANSFER']"
      ]
     },
     "execution_count": 15,
     "metadata": {},
     "output_type": "execute_result"
    }
   ],
   "source": [
    "list(df.loc[df[\"isFlaggedFraud\"] == 1][\"type\"].drop_duplicates().values)"
   ]
  },
  {
   "cell_type": "markdown",
   "metadata": {},
   "source": [
    "There are 16 transactions that are flagged as fraudulent, all of them are transfers."
   ]
  },
  {
   "cell_type": "markdown",
   "metadata": {},
   "source": [
    "### What Makes a Transaction Flagged as Fraudulent?"
   ]
  },
  {
   "cell_type": "code",
   "execution_count": 16,
   "metadata": {},
   "outputs": [],
   "source": [
    "dfTransfer = df.loc[df[\"type\"] == 'TRANSFER']\n",
    "dfFlagged = df.loc[df[\"isFlaggedFraud\"] == 1]\n",
    "dfNotFlagged = df.loc[df[\"isFlaggedFraud\"] == 0]"
   ]
  },
  {
   "cell_type": "code",
   "execution_count": 17,
   "metadata": {},
   "outputs": [
    {
     "data": {
      "text/html": [
       "<div>\n",
       "<style scoped>\n",
       "    .dataframe tbody tr th:only-of-type {\n",
       "        vertical-align: middle;\n",
       "    }\n",
       "\n",
       "    .dataframe tbody tr th {\n",
       "        vertical-align: top;\n",
       "    }\n",
       "\n",
       "    .dataframe thead th {\n",
       "        text-align: right;\n",
       "    }\n",
       "</style>\n",
       "<table border=\"1\" class=\"dataframe\">\n",
       "  <thead>\n",
       "    <tr style=\"text-align: right;\">\n",
       "      <th></th>\n",
       "      <th>step</th>\n",
       "      <th>type</th>\n",
       "      <th>amount</th>\n",
       "      <th>nameOrig</th>\n",
       "      <th>oldBalanceOrig</th>\n",
       "      <th>newBalanceOrig</th>\n",
       "      <th>nameDest</th>\n",
       "      <th>oldBalanceDest</th>\n",
       "      <th>newBalanceDest</th>\n",
       "      <th>isFraud</th>\n",
       "      <th>isFlaggedFraud</th>\n",
       "    </tr>\n",
       "  </thead>\n",
       "  <tbody>\n",
       "    <tr>\n",
       "      <th>2736446</th>\n",
       "      <td>212</td>\n",
       "      <td>TRANSFER</td>\n",
       "      <td>4953893.08</td>\n",
       "      <td>C728984460</td>\n",
       "      <td>4953893.08</td>\n",
       "      <td>4953893.08</td>\n",
       "      <td>C639921569</td>\n",
       "      <td>0.0</td>\n",
       "      <td>0.0</td>\n",
       "      <td>1</td>\n",
       "      <td>1</td>\n",
       "    </tr>\n",
       "    <tr>\n",
       "      <th>3247297</th>\n",
       "      <td>250</td>\n",
       "      <td>TRANSFER</td>\n",
       "      <td>1343002.08</td>\n",
       "      <td>C1100582606</td>\n",
       "      <td>1343002.08</td>\n",
       "      <td>1343002.08</td>\n",
       "      <td>C1147517658</td>\n",
       "      <td>0.0</td>\n",
       "      <td>0.0</td>\n",
       "      <td>1</td>\n",
       "      <td>1</td>\n",
       "    </tr>\n",
       "    <tr>\n",
       "      <th>3760288</th>\n",
       "      <td>279</td>\n",
       "      <td>TRANSFER</td>\n",
       "      <td>536624.41</td>\n",
       "      <td>C1035541766</td>\n",
       "      <td>536624.41</td>\n",
       "      <td>536624.41</td>\n",
       "      <td>C1100697970</td>\n",
       "      <td>0.0</td>\n",
       "      <td>0.0</td>\n",
       "      <td>1</td>\n",
       "      <td>1</td>\n",
       "    </tr>\n",
       "    <tr>\n",
       "      <th>5563713</th>\n",
       "      <td>387</td>\n",
       "      <td>TRANSFER</td>\n",
       "      <td>4892193.09</td>\n",
       "      <td>C908544136</td>\n",
       "      <td>4892193.09</td>\n",
       "      <td>4892193.09</td>\n",
       "      <td>C891140444</td>\n",
       "      <td>0.0</td>\n",
       "      <td>0.0</td>\n",
       "      <td>1</td>\n",
       "      <td>1</td>\n",
       "    </tr>\n",
       "    <tr>\n",
       "      <th>5996407</th>\n",
       "      <td>425</td>\n",
       "      <td>TRANSFER</td>\n",
       "      <td>10000000.00</td>\n",
       "      <td>C689608084</td>\n",
       "      <td>19585040.37</td>\n",
       "      <td>19585040.37</td>\n",
       "      <td>C1392803603</td>\n",
       "      <td>0.0</td>\n",
       "      <td>0.0</td>\n",
       "      <td>1</td>\n",
       "      <td>1</td>\n",
       "    </tr>\n",
       "    <tr>\n",
       "      <th>5996409</th>\n",
       "      <td>425</td>\n",
       "      <td>TRANSFER</td>\n",
       "      <td>9585040.37</td>\n",
       "      <td>C452586515</td>\n",
       "      <td>19585040.37</td>\n",
       "      <td>19585040.37</td>\n",
       "      <td>C1109166882</td>\n",
       "      <td>0.0</td>\n",
       "      <td>0.0</td>\n",
       "      <td>1</td>\n",
       "      <td>1</td>\n",
       "    </tr>\n",
       "    <tr>\n",
       "      <th>6168499</th>\n",
       "      <td>554</td>\n",
       "      <td>TRANSFER</td>\n",
       "      <td>3576297.10</td>\n",
       "      <td>C193696150</td>\n",
       "      <td>3576297.10</td>\n",
       "      <td>3576297.10</td>\n",
       "      <td>C484597480</td>\n",
       "      <td>0.0</td>\n",
       "      <td>0.0</td>\n",
       "      <td>1</td>\n",
       "      <td>1</td>\n",
       "    </tr>\n",
       "    <tr>\n",
       "      <th>6205439</th>\n",
       "      <td>586</td>\n",
       "      <td>TRANSFER</td>\n",
       "      <td>353874.22</td>\n",
       "      <td>C1684585475</td>\n",
       "      <td>353874.22</td>\n",
       "      <td>353874.22</td>\n",
       "      <td>C1770418982</td>\n",
       "      <td>0.0</td>\n",
       "      <td>0.0</td>\n",
       "      <td>1</td>\n",
       "      <td>1</td>\n",
       "    </tr>\n",
       "    <tr>\n",
       "      <th>6266413</th>\n",
       "      <td>617</td>\n",
       "      <td>TRANSFER</td>\n",
       "      <td>2542664.27</td>\n",
       "      <td>C786455622</td>\n",
       "      <td>2542664.27</td>\n",
       "      <td>2542664.27</td>\n",
       "      <td>C661958277</td>\n",
       "      <td>0.0</td>\n",
       "      <td>0.0</td>\n",
       "      <td>1</td>\n",
       "      <td>1</td>\n",
       "    </tr>\n",
       "    <tr>\n",
       "      <th>6281482</th>\n",
       "      <td>646</td>\n",
       "      <td>TRANSFER</td>\n",
       "      <td>10000000.00</td>\n",
       "      <td>C19004745</td>\n",
       "      <td>10399045.08</td>\n",
       "      <td>10399045.08</td>\n",
       "      <td>C1806199534</td>\n",
       "      <td>0.0</td>\n",
       "      <td>0.0</td>\n",
       "      <td>1</td>\n",
       "      <td>1</td>\n",
       "    </tr>\n",
       "    <tr>\n",
       "      <th>6281484</th>\n",
       "      <td>646</td>\n",
       "      <td>TRANSFER</td>\n",
       "      <td>399045.08</td>\n",
       "      <td>C724693370</td>\n",
       "      <td>10399045.08</td>\n",
       "      <td>10399045.08</td>\n",
       "      <td>C1909486199</td>\n",
       "      <td>0.0</td>\n",
       "      <td>0.0</td>\n",
       "      <td>1</td>\n",
       "      <td>1</td>\n",
       "    </tr>\n",
       "    <tr>\n",
       "      <th>6296014</th>\n",
       "      <td>671</td>\n",
       "      <td>TRANSFER</td>\n",
       "      <td>3441041.46</td>\n",
       "      <td>C917414431</td>\n",
       "      <td>3441041.46</td>\n",
       "      <td>3441041.46</td>\n",
       "      <td>C1082139865</td>\n",
       "      <td>0.0</td>\n",
       "      <td>0.0</td>\n",
       "      <td>1</td>\n",
       "      <td>1</td>\n",
       "    </tr>\n",
       "    <tr>\n",
       "      <th>6351225</th>\n",
       "      <td>702</td>\n",
       "      <td>TRANSFER</td>\n",
       "      <td>3171085.59</td>\n",
       "      <td>C1892216157</td>\n",
       "      <td>3171085.59</td>\n",
       "      <td>3171085.59</td>\n",
       "      <td>C1308068787</td>\n",
       "      <td>0.0</td>\n",
       "      <td>0.0</td>\n",
       "      <td>1</td>\n",
       "      <td>1</td>\n",
       "    </tr>\n",
       "    <tr>\n",
       "      <th>6362460</th>\n",
       "      <td>730</td>\n",
       "      <td>TRANSFER</td>\n",
       "      <td>10000000.00</td>\n",
       "      <td>C2140038573</td>\n",
       "      <td>17316255.05</td>\n",
       "      <td>17316255.05</td>\n",
       "      <td>C1395467927</td>\n",
       "      <td>0.0</td>\n",
       "      <td>0.0</td>\n",
       "      <td>1</td>\n",
       "      <td>1</td>\n",
       "    </tr>\n",
       "    <tr>\n",
       "      <th>6362462</th>\n",
       "      <td>730</td>\n",
       "      <td>TRANSFER</td>\n",
       "      <td>7316255.05</td>\n",
       "      <td>C1869569059</td>\n",
       "      <td>17316255.05</td>\n",
       "      <td>17316255.05</td>\n",
       "      <td>C1861208726</td>\n",
       "      <td>0.0</td>\n",
       "      <td>0.0</td>\n",
       "      <td>1</td>\n",
       "      <td>1</td>\n",
       "    </tr>\n",
       "    <tr>\n",
       "      <th>6362584</th>\n",
       "      <td>741</td>\n",
       "      <td>TRANSFER</td>\n",
       "      <td>5674547.89</td>\n",
       "      <td>C992223106</td>\n",
       "      <td>5674547.89</td>\n",
       "      <td>5674547.89</td>\n",
       "      <td>C1366804249</td>\n",
       "      <td>0.0</td>\n",
       "      <td>0.0</td>\n",
       "      <td>1</td>\n",
       "      <td>1</td>\n",
       "    </tr>\n",
       "  </tbody>\n",
       "</table>\n",
       "</div>"
      ],
      "text/plain": [
       "         step      type       amount     nameOrig  oldBalanceOrig  \\\n",
       "2736446   212  TRANSFER   4953893.08   C728984460      4953893.08   \n",
       "3247297   250  TRANSFER   1343002.08  C1100582606      1343002.08   \n",
       "3760288   279  TRANSFER    536624.41  C1035541766       536624.41   \n",
       "5563713   387  TRANSFER   4892193.09   C908544136      4892193.09   \n",
       "5996407   425  TRANSFER  10000000.00   C689608084     19585040.37   \n",
       "5996409   425  TRANSFER   9585040.37   C452586515     19585040.37   \n",
       "6168499   554  TRANSFER   3576297.10   C193696150      3576297.10   \n",
       "6205439   586  TRANSFER    353874.22  C1684585475       353874.22   \n",
       "6266413   617  TRANSFER   2542664.27   C786455622      2542664.27   \n",
       "6281482   646  TRANSFER  10000000.00    C19004745     10399045.08   \n",
       "6281484   646  TRANSFER    399045.08   C724693370     10399045.08   \n",
       "6296014   671  TRANSFER   3441041.46   C917414431      3441041.46   \n",
       "6351225   702  TRANSFER   3171085.59  C1892216157      3171085.59   \n",
       "6362460   730  TRANSFER  10000000.00  C2140038573     17316255.05   \n",
       "6362462   730  TRANSFER   7316255.05  C1869569059     17316255.05   \n",
       "6362584   741  TRANSFER   5674547.89   C992223106      5674547.89   \n",
       "\n",
       "         newBalanceOrig     nameDest  oldBalanceDest  newBalanceDest  isFraud  \\\n",
       "2736446      4953893.08   C639921569             0.0             0.0        1   \n",
       "3247297      1343002.08  C1147517658             0.0             0.0        1   \n",
       "3760288       536624.41  C1100697970             0.0             0.0        1   \n",
       "5563713      4892193.09   C891140444             0.0             0.0        1   \n",
       "5996407     19585040.37  C1392803603             0.0             0.0        1   \n",
       "5996409     19585040.37  C1109166882             0.0             0.0        1   \n",
       "6168499      3576297.10   C484597480             0.0             0.0        1   \n",
       "6205439       353874.22  C1770418982             0.0             0.0        1   \n",
       "6266413      2542664.27   C661958277             0.0             0.0        1   \n",
       "6281482     10399045.08  C1806199534             0.0             0.0        1   \n",
       "6281484     10399045.08  C1909486199             0.0             0.0        1   \n",
       "6296014      3441041.46  C1082139865             0.0             0.0        1   \n",
       "6351225      3171085.59  C1308068787             0.0             0.0        1   \n",
       "6362460     17316255.05  C1395467927             0.0             0.0        1   \n",
       "6362462     17316255.05  C1861208726             0.0             0.0        1   \n",
       "6362584      5674547.89  C1366804249             0.0             0.0        1   \n",
       "\n",
       "         isFlaggedFraud  \n",
       "2736446               1  \n",
       "3247297               1  \n",
       "3760288               1  \n",
       "5563713               1  \n",
       "5996407               1  \n",
       "5996409               1  \n",
       "6168499               1  \n",
       "6205439               1  \n",
       "6266413               1  \n",
       "6281482               1  \n",
       "6281484               1  \n",
       "6296014               1  \n",
       "6351225               1  \n",
       "6362460               1  \n",
       "6362462               1  \n",
       "6362584               1  "
      ]
     },
     "execution_count": 17,
     "metadata": {},
     "output_type": "execute_result"
    }
   ],
   "source": [
    "dfFlagged"
   ]
  },
  {
   "cell_type": "markdown",
   "metadata": {},
   "source": [
    "**In the column description, it is stated that an attempt to transfer more than 200.000 in a single transaction will be flagged as illegal.**"
   ]
  },
  {
   "cell_type": "code",
   "execution_count": 18,
   "metadata": {},
   "outputs": [
    {
     "data": {
      "text/plain": [
       "353874.22"
      ]
     },
     "execution_count": 18,
     "metadata": {},
     "output_type": "execute_result"
    }
   ],
   "source": [
    "dfFlagged[\"amount\"].min()"
   ]
  },
  {
   "cell_type": "markdown",
   "metadata": {},
   "source": [
    "The minimal amount of transaction that is flagged is 353874.22 (more than 200.000).\n",
    "***"
   ]
  },
  {
   "cell_type": "code",
   "execution_count": 19,
   "metadata": {},
   "outputs": [
    {
     "data": {
      "text/plain": [
       "92445516.64"
      ]
     },
     "execution_count": 19,
     "metadata": {},
     "output_type": "execute_result"
    }
   ],
   "source": [
    "dfTransfer.loc[dfTransfer[\"isFlaggedFraud\"] == 0][\"amount\"].max()"
   ]
  },
  {
   "cell_type": "markdown",
   "metadata": {},
   "source": [
    "But, the highest amount of transfer that is not flagged as fraudulent is 92445516.64 (also more than 200.000).\n",
    "***"
   ]
  },
  {
   "cell_type": "markdown",
   "metadata": {},
   "source": [
    "**Findings:**\n",
    "- It is true that the smallest amount of transfer that is flagged as fraudulent is more than 200.000.\n",
    "- However, as shown above, a transaction can remain not flagged despite this condition being met."
   ]
  },
  {
   "cell_type": "markdown",
   "metadata": {},
   "source": [
    "**The old balance is identical to the new balance in the origin and destination accounts for every TRANSFER where isFlaggedFraud is set.**"
   ]
  },
  {
   "cell_type": "code",
   "execution_count": 20,
   "metadata": {},
   "outputs": [
    {
     "data": {
      "text/plain": [
       "282784"
      ]
     },
     "execution_count": 20,
     "metadata": {},
     "output_type": "execute_result"
    }
   ],
   "source": [
    "len(dfTransfer.loc[(dfTransfer[\"isFlaggedFraud\"] == 0) & \\\n",
    "                   (dfTransfer[\"oldBalanceOrig\"] == dfTransfer[\"newBalanceOrig\"])])"
   ]
  },
  {
   "cell_type": "code",
   "execution_count": 21,
   "metadata": {},
   "outputs": [
    {
     "data": {
      "text/plain": [
       "4158"
      ]
     },
     "execution_count": 21,
     "metadata": {},
     "output_type": "execute_result"
    }
   ],
   "source": [
    "len(dfTransfer.loc[(dfTransfer[\"isFlaggedFraud\"] == 0) & \\\n",
    "                   (dfTransfer[\"oldBalanceDest\"] == dfTransfer[\"newBalanceDest\"])])"
   ]
  },
  {
   "cell_type": "markdown",
   "metadata": {},
   "source": [
    "**Finding:**\n",
    "<br>\n",
    "The old and new balance of the origins and destinations accounts are also identical in other transactions that are not flagged as fraudulent."
   ]
  },
  {
   "cell_type": "markdown",
   "metadata": {},
   "source": [
    "**How about the old and new balance in the destination accounts that are all 0 in flagged transactions?**"
   ]
  },
  {
   "cell_type": "code",
   "execution_count": 22,
   "metadata": {},
   "outputs": [
    {
     "data": {
      "text/plain": [
       "4158"
      ]
     },
     "execution_count": 22,
     "metadata": {},
     "output_type": "execute_result"
    }
   ],
   "source": [
    "len(dfTransfer.loc[(dfTransfer[\"isFlaggedFraud\"] == 0) & (dfTransfer[\"oldBalanceDest\"] == 0) & \\\n",
    "                  (dfTransfer[\"newBalanceDest\"] == 0)])"
   ]
  },
  {
   "cell_type": "markdown",
   "metadata": {},
   "source": [
    "**Finding:**\n",
    "<br>As shown above, there are transfers where oldBalanceDest and newBalanceDest are both 0, but these transactions are not flagged as fraudulent."
   ]
  },
  {
   "cell_type": "markdown",
   "metadata": {},
   "source": [
    "Duplicate customer names don't exist within transactions where isFlaggedFraud is 1, but duplicate customer names exist within transactions where isFlaggedFraud is 0. \n",
    "<br>\n",
    "**So, are the customers being flagged based on the number of transaction that they had done?**"
   ]
  },
  {
   "cell_type": "code",
   "execution_count": 23,
   "metadata": {},
   "outputs": [
    {
     "data": {
      "text/plain": [
       "False"
      ]
     },
     "execution_count": 23,
     "metadata": {},
     "output_type": "execute_result"
    }
   ],
   "source": [
    "dfFlagged[\"nameOrig\"].isin(pd.concat([dfNotFlagged[\"nameOrig\"], dfNotFlagged[\"nameDest\"]])).any()"
   ]
  },
  {
   "cell_type": "markdown",
   "metadata": {},
   "source": [
    "Have originators of transactions flagged as fraud transacted more than once? **False.**\n",
    "***"
   ]
  },
  {
   "cell_type": "code",
   "execution_count": 24,
   "metadata": {},
   "outputs": [
    {
     "data": {
      "text/plain": [
       "True"
      ]
     },
     "execution_count": 24,
     "metadata": {},
     "output_type": "execute_result"
    }
   ],
   "source": [
    "dfNotFlagged[\"nameOrig\"][~dfNotFlagged.duplicated(\"nameOrig\")].any()"
   ]
  },
  {
   "cell_type": "markdown",
   "metadata": {},
   "source": [
    "Are there originators that only transacted once but are not flagged as frauds? **True**.\n",
    "***"
   ]
  },
  {
   "cell_type": "markdown",
   "metadata": {},
   "source": [
    "According to the column descripstion, the fraudulent behavior of the agents aims to profit by taking control or customers accounts and try to empty the funds by transferring to another account and then cashing out of the system. So this requires an originator to transfer to a destination account, and then the destination account makes a cash-out transaction. "
   ]
  },
  {
   "cell_type": "code",
   "execution_count": 25,
   "metadata": {},
   "outputs": [
    {
     "data": {
      "text/plain": [
       "False"
      ]
     },
     "execution_count": 25,
     "metadata": {},
     "output_type": "execute_result"
    }
   ],
   "source": [
    "dfFlagged[\"nameDest\"].isin(pd.concat([dfNotFlagged[\"nameOrig\"]])).any()"
   ]
  },
  {
   "cell_type": "markdown",
   "metadata": {},
   "source": [
    "Have destinations for transactions flagged as fraud initiated other transactions? **False.**\n",
    "***"
   ]
  },
  {
   "cell_type": "code",
   "execution_count": 26,
   "metadata": {},
   "outputs": [
    {
     "data": {
      "text/plain": [
       "True"
      ]
     },
     "execution_count": 26,
     "metadata": {},
     "output_type": "execute_result"
    }
   ],
   "source": [
    "dfFlagged[\"nameDest\"].isin(pd.concat([dfNotFlagged[\"nameDest\"]])).any()"
   ]
  },
  {
   "cell_type": "markdown",
   "metadata": {},
   "source": [
    "Have destinations for transactions flagged as fraud have been a destination for another transaction? **True.**\n",
    "***"
   ]
  },
  {
   "cell_type": "code",
   "execution_count": 27,
   "metadata": {},
   "outputs": [
    {
     "data": {
      "text/plain": [
       "2"
      ]
     },
     "execution_count": 27,
     "metadata": {},
     "output_type": "execute_result"
    }
   ],
   "source": [
    "sum(dfFlagged[\"nameDest\"].isin(pd.concat([dfNotFlagged[\"nameDest\"]])))"
   ]
  },
  {
   "cell_type": "markdown",
   "metadata": {},
   "source": [
    "How many destination accounts of transactions flagged as fraud have been destination accounts more than once? **2 accounts.**\n",
    "***"
   ]
  },
  {
   "cell_type": "markdown",
   "metadata": {},
   "source": [
    "**Findings:**\n",
    "- All the originators account flagged as fraud only transacted once, but there are also originators that transacted only once but are not flagged as fraudulent.\n",
    "- According to the description, the fraud scheme aims to profit by taking control or customers accounts and try to empty the funds by transferring to another account and then cashing out of the system. This requires an originator to transfer to a destination account, and then the destination account makes a cash-out transaction. However, there are not destinations for transactions flagged as fraud that initiated other transactions.\n",
    "- There are 2 destination accounts of 16 that are flagged as fraud have been destination accounts more than once, clearly 'isFlaggedFraud' being set is independent of whether a destination account has been used before or not."
   ]
  },
  {
   "cell_type": "markdown",
   "metadata": {},
   "source": [
    "**Conclusion:**\n",
    "- **There is no clear/straighforward reasoning why a transaction is marked as fraudulent.**\n",
    "- **Although all the transanctions flagged as fraud are really frauds (isFraud = 1), since there are only 16 transactions flagged out of 8213 fraudulent transactions in a seemingly meaningless way, we can can treat isFlaggedFraud as insignificant and discard it without losing valuable information.**"
   ]
  },
  {
   "cell_type": "markdown",
   "metadata": {},
   "source": [
    "## Characteristics of Fraudulent Transactions"
   ]
  },
  {
   "cell_type": "markdown",
   "metadata": {},
   "source": [
    "### Fraudulent Transfers and Cash-outs"
   ]
  },
  {
   "cell_type": "markdown",
   "metadata": {},
   "source": [
    "From the data description, the scheme for committing fraud involves first making a TRANSFER to a (fraudulent) account which in turn conducts a CASH_OUT. CASH_OUT involves transacting with a merchant who pays out cash. Thus, within this two-step process, the fraudulent account would be both, the destination in a TRANSFER and the originator in a CASH_OUT."
   ]
  },
  {
   "cell_type": "code",
   "execution_count": 28,
   "metadata": {},
   "outputs": [
    {
     "data": {
      "text/plain": [
       "False"
      ]
     },
     "execution_count": 28,
     "metadata": {},
     "output_type": "execute_result"
    }
   ],
   "source": [
    "transferFrauds[\"nameDest\"].isin(cashoutFrauds[\"nameOrig\"]).any()"
   ]
  },
  {
   "cell_type": "markdown",
   "metadata": {},
   "source": [
    "However, the data shows that there are no common fraudulent accounts being a destination for a transfer and an originator for a cash-out."
   ]
  },
  {
   "cell_type": "markdown",
   "metadata": {},
   "source": [
    "**Could destination accounts for fraudulent TRANSFERs originate CASHOUTs that are not detected and are labeled as genuine?**"
   ]
  },
  {
   "cell_type": "code",
   "execution_count": 29,
   "metadata": {},
   "outputs": [
    {
     "data": {
      "text/html": [
       "<div>\n",
       "<style scoped>\n",
       "    .dataframe tbody tr th:only-of-type {\n",
       "        vertical-align: middle;\n",
       "    }\n",
       "\n",
       "    .dataframe tbody tr th {\n",
       "        vertical-align: top;\n",
       "    }\n",
       "\n",
       "    .dataframe thead th {\n",
       "        text-align: right;\n",
       "    }\n",
       "</style>\n",
       "<table border=\"1\" class=\"dataframe\">\n",
       "  <thead>\n",
       "    <tr style=\"text-align: right;\">\n",
       "      <th></th>\n",
       "      <th>step</th>\n",
       "      <th>type</th>\n",
       "      <th>amount</th>\n",
       "      <th>nameOrig</th>\n",
       "      <th>oldBalanceOrig</th>\n",
       "      <th>newBalanceOrig</th>\n",
       "      <th>nameDest</th>\n",
       "      <th>oldBalanceDest</th>\n",
       "      <th>newBalanceDest</th>\n",
       "      <th>isFraud</th>\n",
       "      <th>isFlaggedFraud</th>\n",
       "    </tr>\n",
       "  </thead>\n",
       "  <tbody>\n",
       "    <tr>\n",
       "      <th>1030443</th>\n",
       "      <td>65</td>\n",
       "      <td>TRANSFER</td>\n",
       "      <td>1282971.57</td>\n",
       "      <td>C1175896731</td>\n",
       "      <td>1282971.57</td>\n",
       "      <td>0.0</td>\n",
       "      <td>C1714931087</td>\n",
       "      <td>0.0</td>\n",
       "      <td>0.0</td>\n",
       "      <td>1</td>\n",
       "      <td>0</td>\n",
       "    </tr>\n",
       "    <tr>\n",
       "      <th>6039814</th>\n",
       "      <td>486</td>\n",
       "      <td>TRANSFER</td>\n",
       "      <td>214793.32</td>\n",
       "      <td>C2140495649</td>\n",
       "      <td>214793.32</td>\n",
       "      <td>0.0</td>\n",
       "      <td>C423543548</td>\n",
       "      <td>0.0</td>\n",
       "      <td>0.0</td>\n",
       "      <td>1</td>\n",
       "      <td>0</td>\n",
       "    </tr>\n",
       "    <tr>\n",
       "      <th>6362556</th>\n",
       "      <td>738</td>\n",
       "      <td>TRANSFER</td>\n",
       "      <td>814689.88</td>\n",
       "      <td>C2029041842</td>\n",
       "      <td>814689.88</td>\n",
       "      <td>0.0</td>\n",
       "      <td>C1023330867</td>\n",
       "      <td>0.0</td>\n",
       "      <td>0.0</td>\n",
       "      <td>1</td>\n",
       "      <td>0</td>\n",
       "    </tr>\n",
       "  </tbody>\n",
       "</table>\n",
       "</div>"
      ],
      "text/plain": [
       "         step      type      amount     nameOrig  oldBalanceOrig  \\\n",
       "1030443    65  TRANSFER  1282971.57  C1175896731      1282971.57   \n",
       "6039814   486  TRANSFER   214793.32  C2140495649       214793.32   \n",
       "6362556   738  TRANSFER   814689.88  C2029041842       814689.88   \n",
       "\n",
       "         newBalanceOrig     nameDest  oldBalanceDest  newBalanceDest  isFraud  \\\n",
       "1030443             0.0  C1714931087             0.0             0.0        1   \n",
       "6039814             0.0   C423543548             0.0             0.0        1   \n",
       "6362556             0.0  C1023330867             0.0             0.0        1   \n",
       "\n",
       "         isFlaggedFraud  \n",
       "1030443               0  \n",
       "6039814               0  \n",
       "6362556               0  "
      ]
     },
     "execution_count": 29,
     "metadata": {},
     "output_type": "execute_result"
    }
   ],
   "source": [
    "transferFrauds.loc[transferFrauds[\"nameDest\"].isin(dfNotFraud.loc[dfNotFraud[\"type\"] == 'CASH_OUT'].nameOrig.drop_duplicates())]"
   ]
  },
  {
   "cell_type": "code",
   "execution_count": 30,
   "metadata": {},
   "outputs": [
    {
     "data": {
      "text/plain": [
       "array([546])"
      ]
     },
     "execution_count": 30,
     "metadata": {},
     "output_type": "execute_result"
    }
   ],
   "source": [
    "dfNotFraud[(dfNotFraud[\"type\"] == 'CASH_OUT') & (dfNotFraud[\"nameOrig\"] == 'C1714931087')][\"step\"].values"
   ]
  },
  {
   "cell_type": "code",
   "execution_count": 31,
   "metadata": {},
   "outputs": [
    {
     "data": {
      "text/plain": [
       "array([185])"
      ]
     },
     "execution_count": 31,
     "metadata": {},
     "output_type": "execute_result"
    }
   ],
   "source": [
    "dfNotFraud[(dfNotFraud[\"type\"] == 'CASH_OUT') & (dfNotFraud[\"nameOrig\"] == 'C423543548')][\"step\"].values"
   ]
  },
  {
   "cell_type": "code",
   "execution_count": 32,
   "metadata": {},
   "outputs": [
    {
     "data": {
      "text/plain": [
       "array([132])"
      ]
     },
     "execution_count": 32,
     "metadata": {},
     "output_type": "execute_result"
    }
   ],
   "source": [
    "dfNotFraud[(dfNotFraud[\"type\"] == 'CASH_OUT') & (dfNotFraud[\"nameOrig\"] == 'C1023330867')][\"step\"].values"
   ]
  },
  {
   "cell_type": "markdown",
   "metadata": {},
   "source": [
    "There are 3 such accounts. However, 2 out of 3 of these accounts first make a genuine CASH_OUT and only later (**as evidenced by the time step**) receive a fraudulent TRANSFER. Thus, fraudulent transactions are not indicated by the nameOrig and nameDest features."
   ]
  },
  {
   "cell_type": "markdown",
   "metadata": {},
   "source": [
    "### Zero Balances in Valid and Fraudulent Transactions"
   ]
  },
  {
   "cell_type": "markdown",
   "metadata": {},
   "source": [
    "The data has several transactions with zero balances in the destination account both before and after a non-zero amount is transacted."
   ]
  },
  {
   "cell_type": "code",
   "execution_count": 33,
   "metadata": {},
   "outputs": [],
   "source": [
    "df_new = df.loc[(df.type == 'TRANSFER') | (df.type == 'CASH_OUT')]\n",
    "frauds = df_new.loc[df[\"isFraud\"] == 1]\n",
    "nonFrauds = df_new.loc[df[\"isFraud\"] == 0]"
   ]
  },
  {
   "cell_type": "code",
   "execution_count": 34,
   "metadata": {},
   "outputs": [
    {
     "data": {
      "text/plain": [
       "0.4955558261293072"
      ]
     },
     "execution_count": 34,
     "metadata": {},
     "output_type": "execute_result"
    }
   ],
   "source": [
    "len(frauds.loc[(frauds[\"oldBalanceDest\"] == 0) & (frauds[\"newBalanceDest\"] == 0) & \\\n",
    "                (frauds[\"amount\"])]) / (1.0 * len(frauds))"
   ]
  },
  {
   "cell_type": "code",
   "execution_count": 35,
   "metadata": {},
   "outputs": [
    {
     "data": {
      "text/plain": [
       "0.0006176245277308345"
      ]
     },
     "execution_count": 35,
     "metadata": {},
     "output_type": "execute_result"
    }
   ],
   "source": [
    "len(nonFrauds.loc[(nonFrauds[\"oldBalanceDest\"] == 0) & (nonFrauds[\"newBalanceDest\"] == 0) & \\\n",
    "                (nonFrauds[\"amount\"])]) / (1.0 * len(nonFrauds))"
   ]
  },
  {
   "cell_type": "markdown",
   "metadata": {},
   "source": [
    "The fraction of transactions where the old and new balance are zero is much larger in fraudulent transactions (50%) compared to genuine transactions (0.06%)."
   ]
  },
  {
   "cell_type": "markdown",
   "metadata": {},
   "source": [
    "### Fraudulent Amount of Transaction"
   ]
  },
  {
   "cell_type": "code",
   "execution_count": 36,
   "metadata": {},
   "outputs": [
    {
     "data": {
      "text/plain": [
       "0.0"
      ]
     },
     "execution_count": 36,
     "metadata": {},
     "output_type": "execute_result"
    }
   ],
   "source": [
    "dfFraud[\"amount\"].min()"
   ]
  },
  {
   "cell_type": "code",
   "execution_count": 37,
   "metadata": {},
   "outputs": [
    {
     "data": {
      "text/plain": [
       "10000000.0"
      ]
     },
     "execution_count": 37,
     "metadata": {},
     "output_type": "execute_result"
    }
   ],
   "source": [
    "dfFraud[\"amount\"].max()"
   ]
  },
  {
   "cell_type": "code",
   "execution_count": 38,
   "metadata": {},
   "outputs": [
    {
     "data": {
      "text/html": [
       "<div>\n",
       "<style scoped>\n",
       "    .dataframe tbody tr th:only-of-type {\n",
       "        vertical-align: middle;\n",
       "    }\n",
       "\n",
       "    .dataframe tbody tr th {\n",
       "        vertical-align: top;\n",
       "    }\n",
       "\n",
       "    .dataframe thead th {\n",
       "        text-align: right;\n",
       "    }\n",
       "</style>\n",
       "<table border=\"1\" class=\"dataframe\">\n",
       "  <thead>\n",
       "    <tr style=\"text-align: right;\">\n",
       "      <th></th>\n",
       "      <th>step</th>\n",
       "      <th>type</th>\n",
       "      <th>amount</th>\n",
       "      <th>nameOrig</th>\n",
       "      <th>oldBalanceOrig</th>\n",
       "      <th>newBalanceOrig</th>\n",
       "      <th>nameDest</th>\n",
       "      <th>oldBalanceDest</th>\n",
       "      <th>newBalanceDest</th>\n",
       "      <th>isFraud</th>\n",
       "      <th>isFlaggedFraud</th>\n",
       "    </tr>\n",
       "  </thead>\n",
       "  <tbody>\n",
       "    <tr>\n",
       "      <th>2736447</th>\n",
       "      <td>212</td>\n",
       "      <td>CASH_OUT</td>\n",
       "      <td>0.0</td>\n",
       "      <td>C1510987794</td>\n",
       "      <td>0.0</td>\n",
       "      <td>0.0</td>\n",
       "      <td>C1696624817</td>\n",
       "      <td>0.00</td>\n",
       "      <td>0.00</td>\n",
       "      <td>1</td>\n",
       "      <td>0</td>\n",
       "    </tr>\n",
       "    <tr>\n",
       "      <th>3247298</th>\n",
       "      <td>250</td>\n",
       "      <td>CASH_OUT</td>\n",
       "      <td>0.0</td>\n",
       "      <td>C521393327</td>\n",
       "      <td>0.0</td>\n",
       "      <td>0.0</td>\n",
       "      <td>C480398193</td>\n",
       "      <td>0.00</td>\n",
       "      <td>0.00</td>\n",
       "      <td>1</td>\n",
       "      <td>0</td>\n",
       "    </tr>\n",
       "    <tr>\n",
       "      <th>3760289</th>\n",
       "      <td>279</td>\n",
       "      <td>CASH_OUT</td>\n",
       "      <td>0.0</td>\n",
       "      <td>C539112012</td>\n",
       "      <td>0.0</td>\n",
       "      <td>0.0</td>\n",
       "      <td>C1106468520</td>\n",
       "      <td>538547.63</td>\n",
       "      <td>538547.63</td>\n",
       "      <td>1</td>\n",
       "      <td>0</td>\n",
       "    </tr>\n",
       "    <tr>\n",
       "      <th>5563714</th>\n",
       "      <td>387</td>\n",
       "      <td>CASH_OUT</td>\n",
       "      <td>0.0</td>\n",
       "      <td>C1294472700</td>\n",
       "      <td>0.0</td>\n",
       "      <td>0.0</td>\n",
       "      <td>C1325541393</td>\n",
       "      <td>7970766.57</td>\n",
       "      <td>7970766.57</td>\n",
       "      <td>1</td>\n",
       "      <td>0</td>\n",
       "    </tr>\n",
       "    <tr>\n",
       "      <th>5996408</th>\n",
       "      <td>425</td>\n",
       "      <td>CASH_OUT</td>\n",
       "      <td>0.0</td>\n",
       "      <td>C832555372</td>\n",
       "      <td>0.0</td>\n",
       "      <td>0.0</td>\n",
       "      <td>C1462759334</td>\n",
       "      <td>76759.90</td>\n",
       "      <td>76759.90</td>\n",
       "      <td>1</td>\n",
       "      <td>0</td>\n",
       "    </tr>\n",
       "    <tr>\n",
       "      <th>5996410</th>\n",
       "      <td>425</td>\n",
       "      <td>CASH_OUT</td>\n",
       "      <td>0.0</td>\n",
       "      <td>C69493310</td>\n",
       "      <td>0.0</td>\n",
       "      <td>0.0</td>\n",
       "      <td>C719711728</td>\n",
       "      <td>2921531.34</td>\n",
       "      <td>2921531.34</td>\n",
       "      <td>1</td>\n",
       "      <td>0</td>\n",
       "    </tr>\n",
       "    <tr>\n",
       "      <th>6168500</th>\n",
       "      <td>554</td>\n",
       "      <td>CASH_OUT</td>\n",
       "      <td>0.0</td>\n",
       "      <td>C10965156</td>\n",
       "      <td>0.0</td>\n",
       "      <td>0.0</td>\n",
       "      <td>C1493336195</td>\n",
       "      <td>230289.66</td>\n",
       "      <td>230289.66</td>\n",
       "      <td>1</td>\n",
       "      <td>0</td>\n",
       "    </tr>\n",
       "    <tr>\n",
       "      <th>6205440</th>\n",
       "      <td>586</td>\n",
       "      <td>CASH_OUT</td>\n",
       "      <td>0.0</td>\n",
       "      <td>C1303719003</td>\n",
       "      <td>0.0</td>\n",
       "      <td>0.0</td>\n",
       "      <td>C900608348</td>\n",
       "      <td>1328472.86</td>\n",
       "      <td>1328472.86</td>\n",
       "      <td>1</td>\n",
       "      <td>0</td>\n",
       "    </tr>\n",
       "    <tr>\n",
       "      <th>6266414</th>\n",
       "      <td>617</td>\n",
       "      <td>CASH_OUT</td>\n",
       "      <td>0.0</td>\n",
       "      <td>C1971175979</td>\n",
       "      <td>0.0</td>\n",
       "      <td>0.0</td>\n",
       "      <td>C1352345416</td>\n",
       "      <td>0.00</td>\n",
       "      <td>0.00</td>\n",
       "      <td>1</td>\n",
       "      <td>0</td>\n",
       "    </tr>\n",
       "    <tr>\n",
       "      <th>6281483</th>\n",
       "      <td>646</td>\n",
       "      <td>CASH_OUT</td>\n",
       "      <td>0.0</td>\n",
       "      <td>C2060908932</td>\n",
       "      <td>0.0</td>\n",
       "      <td>0.0</td>\n",
       "      <td>C1587892888</td>\n",
       "      <td>0.00</td>\n",
       "      <td>0.00</td>\n",
       "      <td>1</td>\n",
       "      <td>0</td>\n",
       "    </tr>\n",
       "    <tr>\n",
       "      <th>6281485</th>\n",
       "      <td>646</td>\n",
       "      <td>CASH_OUT</td>\n",
       "      <td>0.0</td>\n",
       "      <td>C1997645312</td>\n",
       "      <td>0.0</td>\n",
       "      <td>0.0</td>\n",
       "      <td>C601248796</td>\n",
       "      <td>0.00</td>\n",
       "      <td>0.00</td>\n",
       "      <td>1</td>\n",
       "      <td>0</td>\n",
       "    </tr>\n",
       "    <tr>\n",
       "      <th>6296015</th>\n",
       "      <td>671</td>\n",
       "      <td>CASH_OUT</td>\n",
       "      <td>0.0</td>\n",
       "      <td>C1960007029</td>\n",
       "      <td>0.0</td>\n",
       "      <td>0.0</td>\n",
       "      <td>C459118517</td>\n",
       "      <td>27938.72</td>\n",
       "      <td>27938.72</td>\n",
       "      <td>1</td>\n",
       "      <td>0</td>\n",
       "    </tr>\n",
       "    <tr>\n",
       "      <th>6351226</th>\n",
       "      <td>702</td>\n",
       "      <td>CASH_OUT</td>\n",
       "      <td>0.0</td>\n",
       "      <td>C1461113533</td>\n",
       "      <td>0.0</td>\n",
       "      <td>0.0</td>\n",
       "      <td>C1382150537</td>\n",
       "      <td>107777.02</td>\n",
       "      <td>107777.02</td>\n",
       "      <td>1</td>\n",
       "      <td>0</td>\n",
       "    </tr>\n",
       "    <tr>\n",
       "      <th>6362461</th>\n",
       "      <td>730</td>\n",
       "      <td>CASH_OUT</td>\n",
       "      <td>0.0</td>\n",
       "      <td>C729003789</td>\n",
       "      <td>0.0</td>\n",
       "      <td>0.0</td>\n",
       "      <td>C1388096959</td>\n",
       "      <td>1008609.53</td>\n",
       "      <td>1008609.53</td>\n",
       "      <td>1</td>\n",
       "      <td>0</td>\n",
       "    </tr>\n",
       "    <tr>\n",
       "      <th>6362463</th>\n",
       "      <td>730</td>\n",
       "      <td>CASH_OUT</td>\n",
       "      <td>0.0</td>\n",
       "      <td>C2088151490</td>\n",
       "      <td>0.0</td>\n",
       "      <td>0.0</td>\n",
       "      <td>C1156763710</td>\n",
       "      <td>0.00</td>\n",
       "      <td>0.00</td>\n",
       "      <td>1</td>\n",
       "      <td>0</td>\n",
       "    </tr>\n",
       "    <tr>\n",
       "      <th>6362585</th>\n",
       "      <td>741</td>\n",
       "      <td>CASH_OUT</td>\n",
       "      <td>0.0</td>\n",
       "      <td>C312737633</td>\n",
       "      <td>0.0</td>\n",
       "      <td>0.0</td>\n",
       "      <td>C1400061387</td>\n",
       "      <td>267522.87</td>\n",
       "      <td>267522.87</td>\n",
       "      <td>1</td>\n",
       "      <td>0</td>\n",
       "    </tr>\n",
       "  </tbody>\n",
       "</table>\n",
       "</div>"
      ],
      "text/plain": [
       "         step      type  amount     nameOrig  oldBalanceOrig  newBalanceOrig  \\\n",
       "2736447   212  CASH_OUT     0.0  C1510987794             0.0             0.0   \n",
       "3247298   250  CASH_OUT     0.0   C521393327             0.0             0.0   \n",
       "3760289   279  CASH_OUT     0.0   C539112012             0.0             0.0   \n",
       "5563714   387  CASH_OUT     0.0  C1294472700             0.0             0.0   \n",
       "5996408   425  CASH_OUT     0.0   C832555372             0.0             0.0   \n",
       "5996410   425  CASH_OUT     0.0    C69493310             0.0             0.0   \n",
       "6168500   554  CASH_OUT     0.0    C10965156             0.0             0.0   \n",
       "6205440   586  CASH_OUT     0.0  C1303719003             0.0             0.0   \n",
       "6266414   617  CASH_OUT     0.0  C1971175979             0.0             0.0   \n",
       "6281483   646  CASH_OUT     0.0  C2060908932             0.0             0.0   \n",
       "6281485   646  CASH_OUT     0.0  C1997645312             0.0             0.0   \n",
       "6296015   671  CASH_OUT     0.0  C1960007029             0.0             0.0   \n",
       "6351226   702  CASH_OUT     0.0  C1461113533             0.0             0.0   \n",
       "6362461   730  CASH_OUT     0.0   C729003789             0.0             0.0   \n",
       "6362463   730  CASH_OUT     0.0  C2088151490             0.0             0.0   \n",
       "6362585   741  CASH_OUT     0.0   C312737633             0.0             0.0   \n",
       "\n",
       "            nameDest  oldBalanceDest  newBalanceDest  isFraud  isFlaggedFraud  \n",
       "2736447  C1696624817            0.00            0.00        1               0  \n",
       "3247298   C480398193            0.00            0.00        1               0  \n",
       "3760289  C1106468520       538547.63       538547.63        1               0  \n",
       "5563714  C1325541393      7970766.57      7970766.57        1               0  \n",
       "5996408  C1462759334        76759.90        76759.90        1               0  \n",
       "5996410   C719711728      2921531.34      2921531.34        1               0  \n",
       "6168500  C1493336195       230289.66       230289.66        1               0  \n",
       "6205440   C900608348      1328472.86      1328472.86        1               0  \n",
       "6266414  C1352345416            0.00            0.00        1               0  \n",
       "6281483  C1587892888            0.00            0.00        1               0  \n",
       "6281485   C601248796            0.00            0.00        1               0  \n",
       "6296015   C459118517        27938.72        27938.72        1               0  \n",
       "6351226  C1382150537       107777.02       107777.02        1               0  \n",
       "6362461  C1388096959      1008609.53      1008609.53        1               0  \n",
       "6362463  C1156763710            0.00            0.00        1               0  \n",
       "6362585  C1400061387       267522.87       267522.87        1               0  "
      ]
     },
     "execution_count": 38,
     "metadata": {},
     "output_type": "execute_result"
    }
   ],
   "source": [
    "df.loc[df[\"amount\"] == 0]"
   ]
  },
  {
   "cell_type": "code",
   "execution_count": 39,
   "metadata": {},
   "outputs": [
    {
     "data": {
      "text/plain": [
       "57"
      ]
     },
     "execution_count": 39,
     "metadata": {},
     "output_type": "execute_result"
    }
   ],
   "source": [
    "len(dfFraud.loc[dfFraud[\"oldBalanceOrig\"] == dfFraud[\"newBalanceOrig\"]])"
   ]
  },
  {
   "cell_type": "code",
   "execution_count": 40,
   "metadata": {},
   "outputs": [
    {
     "data": {
      "text/plain": [
       "4086"
      ]
     },
     "execution_count": 40,
     "metadata": {},
     "output_type": "execute_result"
    }
   ],
   "source": [
    "len(dfFraud.loc[dfFraud[\"oldBalanceDest\"] == dfFraud[\"newBalanceDest\"]])"
   ]
  },
  {
   "cell_type": "code",
   "execution_count": 41,
   "metadata": {},
   "outputs": [
    {
     "data": {
      "text/plain": [
       "2088980"
      ]
     },
     "execution_count": 41,
     "metadata": {},
     "output_type": "execute_result"
    }
   ],
   "source": [
    "len(dfNotFraud.loc[dfNotFraud[\"oldBalanceOrig\"] == dfNotFraud[\"newBalanceOrig\"]])"
   ]
  },
  {
   "cell_type": "code",
   "execution_count": 42,
   "metadata": {},
   "outputs": [
    {
     "data": {
      "text/plain": [
       "2313206"
      ]
     },
     "execution_count": 42,
     "metadata": {},
     "output_type": "execute_result"
    }
   ],
   "source": [
    "len(dfNotFraud.loc[dfNotFraud[\"oldBalanceDest\"] == dfNotFraud[\"newBalanceDest\"]])"
   ]
  },
  {
   "cell_type": "markdown",
   "metadata": {},
   "source": [
    "### Correlation"
   ]
  },
  {
   "cell_type": "code",
   "execution_count": 43,
   "metadata": {},
   "outputs": [],
   "source": [
    "corr = df.corr()"
   ]
  },
  {
   "cell_type": "code",
   "execution_count": 44,
   "metadata": {},
   "outputs": [
    {
     "data": {
      "image/png": "[encoded data removed]",
      "text/plain": [
       "<Figure size 800x600 with 2 Axes>"
      ]
     },
     "metadata": {},
     "output_type": "display_data"
    }
   ],
   "source": [
    "plt.figure(figsize=(8, 6))\n",
    "sns.heatmap(corr, cmap=\"Blues\", annot=True)\n",
    "plt.show()"
   ]
  },
  {
   "cell_type": "markdown",
   "metadata": {},
   "source": [
    "### Feature Selection"
   ]
  },
  {
   "cell_type": "code",
   "execution_count": 45,
   "metadata": {},
   "outputs": [],
   "source": [
    "df_selected = df.loc[(df[\"type\"] == \"TRANSFER\") | (df[\"type\"] == \"CASH_OUT\")]"
   ]
  },
  {
   "cell_type": "code",
   "execution_count": 46,
   "metadata": {},
   "outputs": [],
   "source": [
    "df_selected = df_selected.drop([\"step\", \"nameOrig\", \"nameDest\", \"isFlaggedFraud\"], axis = 1)"
   ]
  },
  {
   "cell_type": "markdown",
   "metadata": {},
   "source": [
    "### Handling Categorical Variable"
   ]
  },
  {
   "cell_type": "code",
   "execution_count": 47,
   "metadata": {},
   "outputs": [],
   "source": [
    "df_encoded = pd.get_dummies(df_selected,prefix=[\"type\"])"
   ]
  },
  {
   "cell_type": "code",
   "execution_count": 48,
   "metadata": {},
   "outputs": [
    {
     "data": {
      "text/html": [
       "<div>\n",
       "<style scoped>\n",
       "    .dataframe tbody tr th:only-of-type {\n",
       "        vertical-align: middle;\n",
       "    }\n",
       "\n",
       "    .dataframe tbody tr th {\n",
       "        vertical-align: top;\n",
       "    }\n",
       "\n",
       "    .dataframe thead th {\n",
       "        text-align: right;\n",
       "    }\n",
       "</style>\n",
       "<table border=\"1\" class=\"dataframe\">\n",
       "  <thead>\n",
       "    <tr style=\"text-align: right;\">\n",
       "      <th></th>\n",
       "      <th>amount</th>\n",
       "      <th>oldBalanceOrig</th>\n",
       "      <th>newBalanceOrig</th>\n",
       "      <th>oldBalanceDest</th>\n",
       "      <th>newBalanceDest</th>\n",
       "      <th>isFraud</th>\n",
       "      <th>type_CASH_OUT</th>\n",
       "      <th>type_TRANSFER</th>\n",
       "    </tr>\n",
       "  </thead>\n",
       "  <tbody>\n",
       "    <tr>\n",
       "      <th>2</th>\n",
       "      <td>181.00</td>\n",
       "      <td>181.0</td>\n",
       "      <td>0.0</td>\n",
       "      <td>0.0</td>\n",
       "      <td>0.00</td>\n",
       "      <td>1</td>\n",
       "      <td>0</td>\n",
       "      <td>1</td>\n",
       "    </tr>\n",
       "    <tr>\n",
       "      <th>3</th>\n",
       "      <td>181.00</td>\n",
       "      <td>181.0</td>\n",
       "      <td>0.0</td>\n",
       "      <td>21182.0</td>\n",
       "      <td>0.00</td>\n",
       "      <td>1</td>\n",
       "      <td>1</td>\n",
       "      <td>0</td>\n",
       "    </tr>\n",
       "    <tr>\n",
       "      <th>15</th>\n",
       "      <td>229133.94</td>\n",
       "      <td>15325.0</td>\n",
       "      <td>0.0</td>\n",
       "      <td>5083.0</td>\n",
       "      <td>51513.44</td>\n",
       "      <td>0</td>\n",
       "      <td>1</td>\n",
       "      <td>0</td>\n",
       "    </tr>\n",
       "    <tr>\n",
       "      <th>19</th>\n",
       "      <td>215310.30</td>\n",
       "      <td>705.0</td>\n",
       "      <td>0.0</td>\n",
       "      <td>22425.0</td>\n",
       "      <td>0.00</td>\n",
       "      <td>0</td>\n",
       "      <td>0</td>\n",
       "      <td>1</td>\n",
       "    </tr>\n",
       "    <tr>\n",
       "      <th>24</th>\n",
       "      <td>311685.89</td>\n",
       "      <td>10835.0</td>\n",
       "      <td>0.0</td>\n",
       "      <td>6267.0</td>\n",
       "      <td>2719172.89</td>\n",
       "      <td>0</td>\n",
       "      <td>0</td>\n",
       "      <td>1</td>\n",
       "    </tr>\n",
       "  </tbody>\n",
       "</table>\n",
       "</div>"
      ],
      "text/plain": [
       "       amount  oldBalanceOrig  newBalanceOrig  oldBalanceDest  newBalanceDest  \\\n",
       "2      181.00           181.0             0.0             0.0            0.00   \n",
       "3      181.00           181.0             0.0         21182.0            0.00   \n",
       "15  229133.94         15325.0             0.0          5083.0        51513.44   \n",
       "19  215310.30           705.0             0.0         22425.0            0.00   \n",
       "24  311685.89         10835.0             0.0          6267.0      2719172.89   \n",
       "\n",
       "    isFraud  type_CASH_OUT  type_TRANSFER  \n",
       "2         1              0              1  \n",
       "3         1              1              0  \n",
       "15        0              1              0  \n",
       "19        0              0              1  \n",
       "24        0              0              1  "
      ]
     },
     "execution_count": 48,
     "metadata": {},
     "output_type": "execute_result"
    }
   ],
   "source": [
    "df_encoded.head()"
   ]
  },
  {
   "cell_type": "markdown",
   "metadata": {},
   "source": [
    "### Train-Test Splitting"
   ]
  },
  {
   "cell_type": "code",
   "execution_count": 49,
   "metadata": {},
   "outputs": [],
   "source": [
    "randomState = 42\n",
    "np.random.seed(randomState)\n",
    "\n",
    "x = df_encoded.drop(\"isFraud\", axis = 1)\n",
    "y = df_encoded[\"isFraud\"]\n",
    "x_train, x_test, y_train, y_test = train_test_split(x, y, test_size=0.2)"
   ]
  },
  {
   "cell_type": "markdown",
   "metadata": {},
   "source": [
    "Keep x_test and y_test to evaluate models with the test data once we built the model."
   ]
  },
  {
   "cell_type": "markdown",
   "metadata": {},
   "source": [
    "## Model Building"
   ]
  },
  {
   "cell_type": "code",
   "execution_count": 50,
   "metadata": {},
   "outputs": [],
   "source": [
    "df_results = pd.DataFrame(columns=['Methodology', 'Model', 'Accuracy', 'Recall', 'Precision', 'ROC_value', 'Threshold'])"
   ]
  },
  {
   "cell_type": "code",
   "execution_count": 51,
   "metadata": {},
   "outputs": [],
   "source": [
    "def show_confusion_matrix(y_test, pred_test):\n",
    "    cm = confusion_matrix(y_test, pred_test)\n",
    "    cm_df = pd.DataFrame(data=cm, columns =['P No', 'P Yes'], index = ['A No', 'A Yes'])\n",
    "    print(cm_df)"
   ]
  },
  {
   "cell_type": "code",
   "execution_count": 52,
   "metadata": {},
   "outputs": [],
   "source": [
    "def buildAndRunLogisticModels(df_results, Methodology, x_train, y_train, x_test, y_test):\n",
    "    from sklearn import linear_model\n",
    "    from sklearn.model_selection import KFold\n",
    "\n",
    "    num_C = list(np.power(10.0, np.arange(-10, 10)))\n",
    "    cv_num = KFold(n_splits=10, shuffle=True, random_state=42)\n",
    "\n",
    "    searchCV_l2 = linear_model.LogisticRegressionCV(\n",
    "          Cs= num_C,\n",
    "          penalty='l2',\n",
    "          scoring='roc_auc',\n",
    "          cv=cv_num,\n",
    "          random_state=42,\n",
    "          max_iter=10000,\n",
    "          fit_intercept=True,\n",
    "          solver='newton-cg',\n",
    "          tol=10\n",
    "      )\n",
    "\n",
    "    searchCV_l1 = linear_model.LogisticRegressionCV(\n",
    "          Cs=num_C,\n",
    "          penalty='l1',\n",
    "          scoring='roc_auc',\n",
    "          cv=cv_num,\n",
    "          random_state=42,\n",
    "          max_iter=10000,\n",
    "          fit_intercept=True,\n",
    "          solver='liblinear',\n",
    "          tol=10\n",
    "      )\n",
    "\n",
    "    searchCV_l1.fit(x_train, y_train)\n",
    "    searchCV_l2.fit(x_train, y_train)\n",
    "    print ('Max auc_roc for l1:', searchCV_l1.scores_[1].mean(axis=0).max())\n",
    "    print ('Max auc_roc for l2:', searchCV_l2.scores_[1].mean(axis=0).max())\n",
    "\n",
    "    #find predicted vallues\n",
    "    y_pred_l1 = searchCV_l1.predict(x_test)\n",
    "    y_pred_l2 = searchCV_l2.predict(x_test)\n",
    "\n",
    "\n",
    "    #Find predicted probabilities\n",
    "    y_pred_probs_l1 = searchCV_l1.predict_proba(x_test)[:,1] \n",
    "    y_pred_probs_l2 = searchCV_l2.predict_proba(x_test)[:,1] \n",
    "\n",
    "    # Accuaracy of L2/L1 models\n",
    "    accuracy_l2 = metrics.accuracy_score(y_pred=y_pred_l2, y_true=y_test)\n",
    "    accuracy_l1 = metrics.accuracy_score(y_pred=y_pred_l1, y_true=y_test)\n",
    "    \n",
    "    #Recall of L2/L1 models\n",
    "    recall_l2 = metrics.recall_score(y_pred=y_pred_l2, y_true=y_test)\n",
    "    recall_l1 = metrics.recall_score(y_pred=y_pred_l1, y_true=y_test)\n",
    "    \n",
    "    #Precision of L2/L1 models\n",
    "    precision_l2 = metrics.precision_score(y_pred=y_pred_l2, y_true=y_test)\n",
    "    precision_l1 = metrics.precision_score(y_pred=y_pred_l1, y_true=y_test)\n",
    "\n",
    "    print(\"Accuracy of Logistic model with l2 regularisation : {0}\".format(accuracy_l2))\n",
    "    print(\"Confusion Matrix\")\n",
    "    show_confusion_matrix(y_test, y_pred_l2)\n",
    "    print('-' * 60)\n",
    "    print(\"Classification Report\")\n",
    "    print(classification_report(y_test, y_pred_l2))\n",
    "\n",
    "    print(\"Accuracy of Logistic model with l1 regularisation : {0}\".format(accuracy_l1))\n",
    "    print(\"Confusion Matrix\")\n",
    "    show_confusion_matrix(y_test, y_pred_l1)\n",
    "    print('-' * 60)\n",
    "    print(\"Classification Report\")\n",
    "    print(classification_report(y_test, y_pred_l1))\n",
    "\n",
    "    l2_roc_value = roc_auc_score(y_test, y_pred_probs_l2)\n",
    "    print(\"l2 roc_value: {0}\" .format(l2_roc_value))\n",
    "    fpr, tpr, thresholds = metrics.roc_curve(y_test, y_pred_probs_l2)\n",
    "    threshold = thresholds[np.argmax(tpr-fpr)]\n",
    "    print(\"l2 threshold: {0}\".format(threshold))\n",
    "\n",
    "    roc_auc = metrics.auc(fpr, tpr)\n",
    "    print(\"ROC for the test dataset\",'{:.1%}'.format(roc_auc))\n",
    "    plt.plot(fpr,tpr,label=\"Test, auc=\"+str(roc_auc))\n",
    "    plt.legend(loc=4)\n",
    "    plt.show()\n",
    "\n",
    "    df_results = df_results.append(pd.DataFrame({'Methodology': Methodology,'Model': 'Logistic Regression with L2 Regularisation','Accuracy': accuracy_l2,'Recall': recall_l2,'Precision':precision_l2,'ROC_value': l2_roc_value,'Threshold': threshold}, index=[0]),ignore_index= True)\n",
    "\n",
    "    l1_roc_value = roc_auc_score(y_test, y_pred_probs_l1)\n",
    "    print(\"l1 roc_value: {0}\" .format(l1_roc_value))\n",
    "    fpr, tpr, thresholds = metrics.roc_curve(y_test, y_pred_probs_l1)\n",
    "    threshold = thresholds[np.argmax(tpr-fpr)]\n",
    "    print(\"l1 threshold: {0}\".format(threshold))\n",
    "\n",
    "    roc_auc = metrics.auc(fpr, tpr)\n",
    "    print(\"ROC for the test dataset\",'{:.1%}'.format(roc_auc))\n",
    "    plt.plot(fpr,tpr,label=\"Test, auc=\"+str(roc_auc))\n",
    "    plt.legend(loc=4)\n",
    "    plt.show()\n",
    "\n",
    "    df_results = df_results.append(pd.DataFrame({'Methodology': Methodology,'Model': 'Logistic Regression with L1 Regularisation','Accuracy': accuracy_l1,'Recall': recall_l1,'Precision':precision_l1,'ROC_value': l1_roc_value,'Threshold': threshold}, index=[0]),ignore_index= True)\n",
    "    return df_results"
   ]
  },
  {
   "cell_type": "code",
   "execution_count": 53,
   "metadata": {},
   "outputs": [],
   "source": [
    "def buildAndRunXGBoostModels(df_results, Methodology, x_train, y_train, x_test, y_test):\n",
    "    #Evaluate XGboost model\n",
    "    XGBmodel = XGBClassifier(random_state=42)\n",
    "    XGBmodel.fit(x_train, y_train)\n",
    "    y_pred = XGBmodel.predict(x_test)\n",
    "\n",
    "    XGB_test_score = XGBmodel.score(x_test, y_test)\n",
    "    print('Model Accuracy: {0}'.format(XGB_test_score))\n",
    "    \n",
    "    #Recall of XGBoost model\n",
    "    recall_xgb = metrics.recall_score(y_pred=y_pred, y_true=y_test)\n",
    "\n",
    "    #Precision of XGBoost model\n",
    "    precision_xgb = metrics.precision_score(y_pred=y_pred, y_true=y_test)\n",
    "\n",
    "    print(\"Confusion Matrix\")\n",
    "    show_confusion_matrix(y_test, y_pred)\n",
    "    print('-' * 60)\n",
    "    print(\"Classification Report\")\n",
    "    print(classification_report(y_test, y_pred))\n",
    "    # Probabilities for each class\n",
    "    XGB_probs = XGBmodel.predict_proba(x_test)[:, 1]\n",
    "\n",
    "    # Calculate roc auc\n",
    "    XGB_roc_value = roc_auc_score(y_test, XGB_probs)\n",
    "\n",
    "    print(\"XGboost roc_value: {0}\" .format(XGB_roc_value))\n",
    "    fpr, tpr, thresholds = metrics.roc_curve(y_test, XGB_probs)\n",
    "    threshold = thresholds[np.argmax(tpr-fpr)]\n",
    "    print(\"XGBoost threshold: {0}\".format(threshold))\n",
    "    roc_auc = metrics.auc(fpr, tpr)\n",
    "    print(\"ROC for the test dataset\",'{:.1%}'.format(roc_auc))\n",
    "    plt.plot(fpr,tpr,label=\"Test, auc=\"+str(roc_auc))\n",
    "    plt.legend(loc=4)\n",
    "    plt.show()\n",
    "\n",
    "    df_results = df_results.append(pd.DataFrame({'Methodology': Methodology,'Model': 'XGBoost','Accuracy': XGB_test_score,'Recall': recall_xgb,'Precision':precision_xgb,'ROC_value': XGB_roc_value,'Threshold': threshold}, index=[0]),ignore_index= True)\n",
    "\n",
    "    return df_results"
   ]
  },
  {
   "cell_type": "code",
   "execution_count": 54,
   "metadata": {},
   "outputs": [],
   "source": [
    "def buildAndRunKNNModels(df_results, Methodology, x_train, y_train, x_test, y_test):\n",
    "    #create KNN model and fit the model with train dataset\n",
    "    knn = KNeighborsClassifier(n_neighbors = 5,n_jobs=16)\n",
    "    knn.fit(x_train,y_train)\n",
    "    score = knn.score(x_test,y_test)\n",
    "    print(\"model score\")\n",
    "    print(score)\n",
    "\n",
    "    #Accuracy\n",
    "    y_pred = knn.predict(x_test)\n",
    "    KNN_Accuracy = metrics.accuracy_score(y_pred=y_pred, y_true=y_test)\n",
    "    \n",
    "    #Recall of KNN model\n",
    "    recall_knn = metrics.recall_score(y_pred=y_pred, y_true=y_test)\n",
    "\n",
    "    #Precision of KNN model\n",
    "    precision_knn = metrics.precision_score(y_pred=y_pred, y_true=y_test)\n",
    "    \n",
    "    print(\"Confusion Matrix\")\n",
    "    show_confusion_matrix(y_test, y_pred)\n",
    "    print('-' * 60)\n",
    "    print(\"Classification Report\")\n",
    "    print(classification_report(y_test, y_pred))\n",
    "\n",
    "    knn_probs = knn.predict_proba(x_test)[:, 1]\n",
    "\n",
    "    # Calculate roc auc\n",
    "    knn_roc_value = roc_auc_score(y_test, knn_probs)\n",
    "    print(\"KNN roc_value: {0}\" .format(knn_roc_value))\n",
    "    fpr, tpr, thresholds = metrics.roc_curve(y_test, knn_probs)\n",
    "    threshold = thresholds[np.argmax(tpr-fpr)]\n",
    "    print(\"KNN threshold: {0}\".format(threshold))\n",
    "\n",
    "    roc_auc = metrics.auc(fpr, tpr)\n",
    "    print(\"ROC for the test dataset\",'{:.1%}'.format(roc_auc))\n",
    "    plt.plot(fpr,tpr,label=\"Test, auc=\"+str(roc_auc))\n",
    "    plt.legend(loc=4)\n",
    "    plt.show()\n",
    "\n",
    "    df_results = df_results.append(pd.DataFrame({'Methodology': Methodology,'Model': 'KNN','Accuracy': score,'Recall': recall_knn,'Precision':precision_knn,'ROC_value': knn_roc_value,'Threshold': threshold}, index=[0]),ignore_index= True)\n",
    "\n",
    "    return df_results"
   ]
  },
  {
   "cell_type": "markdown",
   "metadata": {},
   "source": [
    "### Stratified KFold"
   ]
  },
  {
   "cell_type": "code",
   "execution_count": 55,
   "metadata": {},
   "outputs": [
    {
     "name": "stdout",
     "output_type": "stream",
     "text": [
      "TRAIN: [ 553977  553978  553979 ... 2770406 2770407 2770408] TEST: [     0      1      2 ... 661800 661801 661828]\n",
      "TRAIN: [      0       1       2 ... 2770406 2770407 2770408] TEST: [ 553977  553978  553979 ... 1729827 1729828 1729889]\n",
      "TRAIN: [      0       1       2 ... 2770406 2770407 2770408] TEST: [1107160 1107161 1107162 ... 2624073 2624078 2624079]\n",
      "TRAIN: [      0       1       2 ... 2770406 2770407 2770408] TEST: [1660492 1660493 1660494 ... 2721116 2721254 2721255]\n",
      "TRAIN: [      0       1       2 ... 2721116 2721254 2721255] TEST: [2213710 2213711 2213712 ... 2770406 2770407 2770408]\n"
     ]
    }
   ],
   "source": [
    "from sklearn.model_selection import StratifiedKFold\n",
    "skf = StratifiedKFold(n_splits=5, random_state=None)\n",
    "# x is the feature set and y is the target\n",
    "for train_index, test_index in skf.split(x, y):\n",
    "    print(\"TRAIN:\", train_index, \"TEST:\", test_index)\n",
    "    x_train_SKF_cv, x_test_SKF_cv = x.iloc[train_index], x.iloc[test_index]\n",
    "    y_train_SKF_cv, y_test_SKF_cv = y.iloc[train_index], y.iloc[test_index]"
   ]
  },
  {
   "cell_type": "code",
   "execution_count": 56,
   "metadata": {},
   "outputs": [
    {
     "name": "stdout",
     "output_type": "stream",
     "text": [
      "Logistic Regression with L1 And L2 Regularisation\n",
      "Max auc_roc for l1: 0.9549411798096739\n",
      "Max auc_roc for l2: 0.6659959700556891\n",
      "Accuracy of Logistic model with l2 regularisation : 0.9970365343695236\n",
      "Confusion Matrix\n",
      "         P No  P Yes\n",
      "A No   552439      0\n",
      "A Yes    1642      0\n",
      "------------------------------------------------------------\n",
      "Classification Report\n",
      "              precision    recall  f1-score   support\n",
      "\n",
      "           0       1.00      1.00      1.00    552439\n",
      "           1       0.00      0.00      0.00      1642\n",
      "\n",
      "    accuracy                           1.00    554081\n",
      "   macro avg       0.50      0.50      0.50    554081\n",
      "weighted avg       0.99      1.00      1.00    554081\n",
      "\n",
      "Accuracy of Logistic model with l1 regularisation : 0.9977097211418547\n",
      "Confusion Matrix\n",
      "         P No  P Yes\n",
      "A No   552423     16\n",
      "A Yes    1253    389\n",
      "------------------------------------------------------------\n",
      "Classification Report\n",
      "              precision    recall  f1-score   support\n",
      "\n",
      "           0       1.00      1.00      1.00    552439\n",
      "           1       0.96      0.24      0.38      1642\n",
      "\n",
      "    accuracy                           1.00    554081\n",
      "   macro avg       0.98      0.62      0.69    554081\n",
      "weighted avg       1.00      1.00      1.00    554081\n",
      "\n",
      "l2 roc_value: 0.6515303636821744\n",
      "l2 threshold: 0.46141856278611887\n",
      "ROC for the test dataset 65.2%\n"
     ]
    },
    {
     "data": {
      "image/png": "[encoded data removed]",
      "text/plain": [
       "<Figure size 640x480 with 1 Axes>"
      ]
     },
     "metadata": {},
     "output_type": "display_data"
    },
    {
     "name": "stdout",
     "output_type": "stream",
     "text": [
      "l1 roc_value: 0.91269531405586\n",
      "l1 threshold: 0.009216130158196865\n",
      "ROC for the test dataset 91.3%\n"
     ]
    },
    {
     "data": {
      "image/png": "[encoded data removed]",
      "text/plain": [
       "<Figure size 640x480 with 1 Axes>"
      ]
     },
     "metadata": {},
     "output_type": "display_data"
    },
    {
     "name": "stdout",
     "output_type": "stream",
     "text": [
      "Time Taken by Model: --- 730.2219462394714 seconds ---\n",
      "------------------------------------------------------------\n"
     ]
    }
   ],
   "source": [
    "print(\"Logistic Regression with L1 And L2 Regularisation\")\n",
    "start_time = time.time()\n",
    "df_results = buildAndRunLogisticModels(df_results, \"StratifiedKFold Cross Validation\", x_train_SKF_cv, y_train_SKF_cv, x_test_SKF_cv, y_test_SKF_cv)\n",
    "print(\"Time Taken by Model: --- %s seconds ---\" % (time.time() - start_time))\n",
    "print('-' * 60 )"
   ]
  },
  {
   "cell_type": "code",
   "execution_count": 57,
   "metadata": {},
   "outputs": [
    {
     "name": "stdout",
     "output_type": "stream",
     "text": [
      "XGBoost Model\n",
      "Model Accuracy: 0.9993611042428815\n",
      "Confusion Matrix\n",
      "         P No  P Yes\n",
      "A No   552383     56\n",
      "A Yes     298   1344\n",
      "------------------------------------------------------------\n",
      "Classification Report\n",
      "              precision    recall  f1-score   support\n",
      "\n",
      "           0       1.00      1.00      1.00    552439\n",
      "           1       0.96      0.82      0.88      1642\n",
      "\n",
      "    accuracy                           1.00    554081\n",
      "   macro avg       0.98      0.91      0.94    554081\n",
      "weighted avg       1.00      1.00      1.00    554081\n",
      "\n",
      "XGboost roc_value: 0.9998929561436206\n",
      "XGBoost threshold: 0.02536499686539173\n",
      "ROC for the test dataset 100.0%\n"
     ]
    },
    {
     "data": {
      "image/png": "[encoded data removed]",
      "text/plain": [
       "<Figure size 640x480 with 1 Axes>"
      ]
     },
     "metadata": {},
     "output_type": "display_data"
    },
    {
     "name": "stdout",
     "output_type": "stream",
     "text": [
      "Time Taken by Model: --- 84.75247001647949 seconds ---\n"
     ]
    }
   ],
   "source": [
    "print(\"XGBoost Model\")\n",
    "start_time = time.time()\n",
    "df_results = buildAndRunXGBoostModels(df_results, \"StratifiedKFold Cross Validation\", x_train_SKF_cv, y_train_SKF_cv, x_test_SKF_cv, y_test_SKF_cv)\n",
    "print(\"Time Taken by Model: --- %s seconds ---\" % (time.time() - start_time))"
   ]
  },
  {
   "cell_type": "code",
   "execution_count": 58,
   "metadata": {},
   "outputs": [
    {
     "name": "stdout",
     "output_type": "stream",
     "text": [
      "KNN Model\n",
      "model score\n",
      "0.9989857078658174\n",
      "Confusion Matrix\n",
      "         P No  P Yes\n",
      "A No   552311    128\n",
      "A Yes     434   1208\n",
      "------------------------------------------------------------\n",
      "Classification Report\n",
      "              precision    recall  f1-score   support\n",
      "\n",
      "           0       1.00      1.00      1.00    552439\n",
      "           1       0.90      0.74      0.81      1642\n",
      "\n",
      "    accuracy                           1.00    554081\n",
      "   macro avg       0.95      0.87      0.91    554081\n",
      "weighted avg       1.00      1.00      1.00    554081\n",
      "\n",
      "KNN roc_value: 0.9305055999491869\n",
      "KNN threshold: 0.2\n",
      "ROC for the test dataset 93.1%\n"
     ]
    },
    {
     "data": {
      "image/png": "[encoded data removed]",
      "text/plain": [
       "<Figure size 640x480 with 1 Axes>"
      ]
     },
     "metadata": {},
     "output_type": "display_data"
    },
    {
     "name": "stdout",
     "output_type": "stream",
     "text": [
      "Time Taken by Model: --- 42.14301347732544 seconds ---\n",
      "------------------------------------------------------------\n"
     ]
    }
   ],
   "source": [
    "print(\"KNN Model\")\n",
    "start_time = time.time()\n",
    "df_results = buildAndRunKNNModels(df_results, \"StratifiedKFold Cross Validation\", x_train_SKF_cv, y_train_SKF_cv, x_test_SKF_cv, y_test_SKF_cv)\n",
    "print(\"Time Taken by Model: --- %s seconds ---\" % (time.time() - start_time))\n",
    "print('-' * 60 )"
   ]
  },
  {
   "cell_type": "code",
   "execution_count": 59,
   "metadata": {},
   "outputs": [
    {
     "data": {
      "text/html": [
       "<div>\n",
       "<style scoped>\n",
       "    .dataframe tbody tr th:only-of-type {\n",
       "        vertical-align: middle;\n",
       "    }\n",
       "\n",
       "    .dataframe tbody tr th {\n",
       "        vertical-align: top;\n",
       "    }\n",
       "\n",
       "    .dataframe thead th {\n",
       "        text-align: right;\n",
       "    }\n",
       "</style>\n",
       "<table border=\"1\" class=\"dataframe\">\n",
       "  <thead>\n",
       "    <tr style=\"text-align: right;\">\n",
       "      <th></th>\n",
       "      <th>Methodology</th>\n",
       "      <th>Model</th>\n",
       "      <th>Accuracy</th>\n",
       "      <th>Recall</th>\n",
       "      <th>Precision</th>\n",
       "      <th>ROC_value</th>\n",
       "      <th>Threshold</th>\n",
       "    </tr>\n",
       "  </thead>\n",
       "  <tbody>\n",
       "    <tr>\n",
       "      <th>0</th>\n",
       "      <td>StratifiedKFold Cross Validation</td>\n",
       "      <td>Logistic Regression with L2 Regularisation</td>\n",
       "      <td>0.997037</td>\n",
       "      <td>0.000000</td>\n",
       "      <td>0.000000</td>\n",
       "      <td>0.651530</td>\n",
       "      <td>0.461419</td>\n",
       "    </tr>\n",
       "    <tr>\n",
       "      <th>1</th>\n",
       "      <td>StratifiedKFold Cross Validation</td>\n",
       "      <td>Logistic Regression with L1 Regularisation</td>\n",
       "      <td>0.997710</td>\n",
       "      <td>0.236906</td>\n",
       "      <td>0.960494</td>\n",
       "      <td>0.912695</td>\n",
       "      <td>0.009216</td>\n",
       "    </tr>\n",
       "    <tr>\n",
       "      <th>2</th>\n",
       "      <td>StratifiedKFold Cross Validation</td>\n",
       "      <td>XGBoost</td>\n",
       "      <td>0.999361</td>\n",
       "      <td>0.818514</td>\n",
       "      <td>0.960000</td>\n",
       "      <td>0.999893</td>\n",
       "      <td>0.025365</td>\n",
       "    </tr>\n",
       "    <tr>\n",
       "      <th>3</th>\n",
       "      <td>StratifiedKFold Cross Validation</td>\n",
       "      <td>KNN</td>\n",
       "      <td>0.998986</td>\n",
       "      <td>0.735688</td>\n",
       "      <td>0.904192</td>\n",
       "      <td>0.930506</td>\n",
       "      <td>0.200000</td>\n",
       "    </tr>\n",
       "  </tbody>\n",
       "</table>\n",
       "</div>"
      ],
      "text/plain": [
       "                        Methodology  \\\n",
       "0  StratifiedKFold Cross Validation   \n",
       "1  StratifiedKFold Cross Validation   \n",
       "2  StratifiedKFold Cross Validation   \n",
       "3  StratifiedKFold Cross Validation   \n",
       "\n",
       "                                        Model  Accuracy    Recall  Precision  \\\n",
       "0  Logistic Regression with L2 Regularisation  0.997037  0.000000   0.000000   \n",
       "1  Logistic Regression with L1 Regularisation  0.997710  0.236906   0.960494   \n",
       "2                                     XGBoost  0.999361  0.818514   0.960000   \n",
       "3                                         KNN  0.998986  0.735688   0.904192   \n",
       "\n",
       "   ROC_value  Threshold  \n",
       "0   0.651530   0.461419  \n",
       "1   0.912695   0.009216  \n",
       "2   0.999893   0.025365  \n",
       "3   0.930506   0.200000  "
      ]
     },
     "execution_count": 59,
     "metadata": {},
     "output_type": "execute_result"
    }
   ],
   "source": [
    "df_results"
   ]
  },
  {
   "cell_type": "markdown",
   "metadata": {
    "tags": []
   },
   "source": [
    "### SMOTE Oversampling with StratifiedKFold Cross Validation"
   ]
  },
  {
   "cell_type": "code",
   "execution_count": 60,
   "metadata": {},
   "outputs": [],
   "source": [
    "from sklearn.model_selection import StratifiedKFold\n",
    "from imblearn import over_sampling"
   ]
  },
  {
   "cell_type": "code",
   "execution_count": 61,
   "metadata": {},
   "outputs": [],
   "source": [
    "cols = list(x.columns.values)"
   ]
  },
  {
   "cell_type": "code",
   "execution_count": 62,
   "metadata": {},
   "outputs": [],
   "source": [
    "skf = StratifiedKFold(n_splits=5, random_state=None)\n",
    "\n",
    "for fold, (train_index, test_index) in enumerate(skf.split(x,y), 1):  \n",
    "    x_train_SKF_cv, x_test_SKF_cv = x.iloc[train_index], x.iloc[test_index]\n",
    "    y_train_SKF_cv, y_test_SKF_cv = y.iloc[train_index], y.iloc[test_index]\n",
    "    SMOTE = over_sampling.SMOTE(random_state=0)\n",
    "    x_train_Smote, y_train_Smote = SMOTE.fit_resample(x_train_SKF_cv, y_train_SKF_cv)\n",
    "  \n",
    "x_train_Smote = pd.DataFrame(data=x_train_Smote, columns=cols)"
   ]
  },
  {
   "cell_type": "code",
   "execution_count": 63,
   "metadata": {},
   "outputs": [],
   "source": [
    "Data_Imbalance_Handling = \"SMOTE Oversampling with StratifiedKFold CV\""
   ]
  },
  {
   "cell_type": "code",
   "execution_count": 64,
   "metadata": {},
   "outputs": [
    {
     "name": "stdout",
     "output_type": "stream",
     "text": [
      "Logistic Regression with L1 And L2 Regularisation\n",
      "Max auc_roc for l1: 0.5\n",
      "Max auc_roc for l2: 0.9772534984826668\n",
      "Accuracy of Logistic model with l2 regularisation : 0.9176150822441443\n",
      "Confusion Matrix\n",
      "         P No  P Yes\n",
      "A No   506858  45578\n",
      "A Yes      70   1576\n",
      "------------------------------------------------------------\n",
      "Classification Report\n",
      "              precision    recall  f1-score   support\n",
      "\n",
      "           0       1.00      0.92      0.96    552436\n",
      "           1       0.03      0.96      0.06      1646\n",
      "\n",
      "    accuracy                           0.92    554082\n",
      "   macro avg       0.52      0.94      0.51    554082\n",
      "weighted avg       1.00      0.92      0.95    554082\n",
      "\n",
      "Accuracy of Logistic model with l1 regularisation : 0.9970293205698796\n",
      "Confusion Matrix\n",
      "         P No  P Yes\n",
      "A No   552436      0\n",
      "A Yes    1646      0\n",
      "------------------------------------------------------------\n",
      "Classification Report\n",
      "              precision    recall  f1-score   support\n",
      "\n",
      "           0       1.00      1.00      1.00    552436\n",
      "           1       0.00      0.00      0.00      1646\n",
      "\n",
      "    accuracy                           1.00    554082\n",
      "   macro avg       0.50      0.50      0.50    554082\n",
      "weighted avg       0.99      1.00      1.00    554082\n",
      "\n",
      "l2 roc_value: 0.9764847614243304\n",
      "l2 threshold: 0.5034325297136221\n",
      "ROC for the test dataset 97.6%\n"
     ]
    },
    {
     "data": {
      "image/png": "[encoded data removed]",
      "text/plain": [
       "<Figure size 640x480 with 1 Axes>"
      ]
     },
     "metadata": {},
     "output_type": "display_data"
    },
    {
     "name": "stdout",
     "output_type": "stream",
     "text": [
      "l1 roc_value: 0.5\n",
      "l1 threshold: 1.5\n",
      "ROC for the test dataset 50.0%\n"
     ]
    },
    {
     "data": {
      "image/png": "[encoded data removed]",
      "text/plain": [
       "<Figure size 640x480 with 1 Axes>"
      ]
     },
     "metadata": {},
     "output_type": "display_data"
    },
    {
     "name": "stdout",
     "output_type": "stream",
     "text": [
      "Time Taken by Model: --- 1189.5817050933838 seconds ---\n"
     ]
    }
   ],
   "source": [
    "print(\"Logistic Regression with L1 And L2 Regularisation\")\n",
    "start_time = time.time()\n",
    "df_results = buildAndRunLogisticModels(df_results, Data_Imbalance_Handling, x_train_Smote, y_train_Smote, x_test, y_test)\n",
    "print(\"Time Taken by Model: --- %s seconds ---\" % (time.time() - start_time))"
   ]
  },
  {
   "cell_type": "code",
   "execution_count": 65,
   "metadata": {},
   "outputs": [
    {
     "name": "stdout",
     "output_type": "stream",
     "text": [
      "XGBoost Model\n",
      "Model Accuracy: 0.996545637649301\n",
      "Confusion Matrix\n",
      "         P No  P Yes\n",
      "A No   550530   1906\n",
      "A Yes       8   1638\n",
      "------------------------------------------------------------\n",
      "Classification Report\n",
      "              precision    recall  f1-score   support\n",
      "\n",
      "           0       1.00      1.00      1.00    552436\n",
      "           1       0.46      1.00      0.63      1646\n",
      "\n",
      "    accuracy                           1.00    554082\n",
      "   macro avg       0.73      1.00      0.81    554082\n",
      "weighted avg       1.00      1.00      1.00    554082\n",
      "\n",
      "XGboost roc_value: 0.9992321504611846\n",
      "XGBoost threshold: 0.527604877948761\n",
      "ROC for the test dataset 99.9%\n"
     ]
    },
    {
     "data": {
      "image/png": "[encoded data removed]",
      "text/plain": [
       "<Figure size 640x480 with 1 Axes>"
      ]
     },
     "metadata": {},
     "output_type": "display_data"
    },
    {
     "name": "stdout",
     "output_type": "stream",
     "text": [
      "Time Taken by Model: --- 73.04411196708679 seconds ---\n"
     ]
    }
   ],
   "source": [
    "print(\"XGBoost Model\")\n",
    "start_time = time.time()\n",
    "df_results = buildAndRunXGBoostModels(df_results, Data_Imbalance_Handling, x_train_Smote, y_train_Smote, x_test, y_test)\n",
    "print(\"Time Taken by Model: --- %s seconds ---\" % (time.time() - start_time))"
   ]
  },
  {
   "cell_type": "code",
   "execution_count": 66,
   "metadata": {},
   "outputs": [
    {
     "name": "stdout",
     "output_type": "stream",
     "text": [
      "KNN Model\n",
      "model score\n",
      "0.9928656769214665\n",
      "Confusion Matrix\n",
      "         P No  P Yes\n",
      "A No   548516   3920\n",
      "A Yes      33   1613\n",
      "------------------------------------------------------------\n",
      "Classification Report\n",
      "              precision    recall  f1-score   support\n",
      "\n",
      "           0       1.00      0.99      1.00    552436\n",
      "           1       0.29      0.98      0.45      1646\n",
      "\n",
      "    accuracy                           0.99    554082\n",
      "   macro avg       0.65      0.99      0.72    554082\n",
      "weighted avg       1.00      0.99      0.99    554082\n",
      "\n",
      "KNN roc_value: 0.9906559641768502\n",
      "KNN threshold: 0.6\n",
      "ROC for the test dataset 99.1%\n"
     ]
    },
    {
     "data": {
      "image/png": "[encoded data removed]",
      "text/plain": [
       "<Figure size 640x480 with 1 Axes>"
      ]
     },
     "metadata": {},
     "output_type": "display_data"
    },
    {
     "name": "stdout",
     "output_type": "stream",
     "text": [
      "Time Taken by Model: --- 49.98242497444153 seconds ---\n"
     ]
    }
   ],
   "source": [
    "print(\"KNN Model\")\n",
    "start_time = time.time()\n",
    "df_results = buildAndRunKNNModels(df_results, Data_Imbalance_Handling, x_train_Smote, y_train_Smote, x_test, y_test)\n",
    "print(\"Time Taken by Model: --- %s seconds ---\" % (time.time() - start_time))"
   ]
  },
  {
   "cell_type": "code",
   "execution_count": 67,
   "metadata": {},
   "outputs": [
    {
     "data": {
      "text/html": [
       "<div>\n",
       "<style scoped>\n",
       "    .dataframe tbody tr th:only-of-type {\n",
       "        vertical-align: middle;\n",
       "    }\n",
       "\n",
       "    .dataframe tbody tr th {\n",
       "        vertical-align: top;\n",
       "    }\n",
       "\n",
       "    .dataframe thead th {\n",
       "        text-align: right;\n",
       "    }\n",
       "</style>\n",
       "<table border=\"1\" class=\"dataframe\">\n",
       "  <thead>\n",
       "    <tr style=\"text-align: right;\">\n",
       "      <th></th>\n",
       "      <th>Methodology</th>\n",
       "      <th>Model</th>\n",
       "      <th>Accuracy</th>\n",
       "      <th>Recall</th>\n",
       "      <th>Precision</th>\n",
       "      <th>ROC_value</th>\n",
       "      <th>Threshold</th>\n",
       "    </tr>\n",
       "  </thead>\n",
       "  <tbody>\n",
       "    <tr>\n",
       "      <th>0</th>\n",
       "      <td>StratifiedKFold Cross Validation</td>\n",
       "      <td>Logistic Regression with L2 Regularisation</td>\n",
       "      <td>0.997037</td>\n",
       "      <td>0.000000</td>\n",
       "      <td>0.000000</td>\n",
       "      <td>0.651530</td>\n",
       "      <td>0.461419</td>\n",
       "    </tr>\n",
       "    <tr>\n",
       "      <th>1</th>\n",
       "      <td>StratifiedKFold Cross Validation</td>\n",
       "      <td>Logistic Regression with L1 Regularisation</td>\n",
       "      <td>0.997710</td>\n",
       "      <td>0.236906</td>\n",
       "      <td>0.960494</td>\n",
       "      <td>0.912695</td>\n",
       "      <td>0.009216</td>\n",
       "    </tr>\n",
       "    <tr>\n",
       "      <th>2</th>\n",
       "      <td>StratifiedKFold Cross Validation</td>\n",
       "      <td>XGBoost</td>\n",
       "      <td>0.999361</td>\n",
       "      <td>0.818514</td>\n",
       "      <td>0.960000</td>\n",
       "      <td>0.999893</td>\n",
       "      <td>0.025365</td>\n",
       "    </tr>\n",
       "    <tr>\n",
       "      <th>3</th>\n",
       "      <td>StratifiedKFold Cross Validation</td>\n",
       "      <td>KNN</td>\n",
       "      <td>0.998986</td>\n",
       "      <td>0.735688</td>\n",
       "      <td>0.904192</td>\n",
       "      <td>0.930506</td>\n",
       "      <td>0.200000</td>\n",
       "    </tr>\n",
       "    <tr>\n",
       "      <th>4</th>\n",
       "      <td>SMOTE Oversampling with StratifiedKFold CV</td>\n",
       "      <td>Logistic Regression with L2 Regularisation</td>\n",
       "      <td>0.917615</td>\n",
       "      <td>0.957473</td>\n",
       "      <td>0.033422</td>\n",
       "      <td>0.976485</td>\n",
       "      <td>0.503433</td>\n",
       "    </tr>\n",
       "    <tr>\n",
       "      <th>5</th>\n",
       "      <td>SMOTE Oversampling with StratifiedKFold CV</td>\n",
       "      <td>Logistic Regression with L1 Regularisation</td>\n",
       "      <td>0.997029</td>\n",
       "      <td>0.000000</td>\n",
       "      <td>0.000000</td>\n",
       "      <td>0.500000</td>\n",
       "      <td>1.500000</td>\n",
       "    </tr>\n",
       "    <tr>\n",
       "      <th>6</th>\n",
       "      <td>SMOTE Oversampling with StratifiedKFold CV</td>\n",
       "      <td>XGBoost</td>\n",
       "      <td>0.996546</td>\n",
       "      <td>0.995140</td>\n",
       "      <td>0.462190</td>\n",
       "      <td>0.999232</td>\n",
       "      <td>0.527605</td>\n",
       "    </tr>\n",
       "    <tr>\n",
       "      <th>7</th>\n",
       "      <td>SMOTE Oversampling with StratifiedKFold CV</td>\n",
       "      <td>KNN</td>\n",
       "      <td>0.992866</td>\n",
       "      <td>0.979951</td>\n",
       "      <td>0.291524</td>\n",
       "      <td>0.990656</td>\n",
       "      <td>0.600000</td>\n",
       "    </tr>\n",
       "  </tbody>\n",
       "</table>\n",
       "</div>"
      ],
      "text/plain": [
       "                                  Methodology  \\\n",
       "0            StratifiedKFold Cross Validation   \n",
       "1            StratifiedKFold Cross Validation   \n",
       "2            StratifiedKFold Cross Validation   \n",
       "3            StratifiedKFold Cross Validation   \n",
       "4  SMOTE Oversampling with StratifiedKFold CV   \n",
       "5  SMOTE Oversampling with StratifiedKFold CV   \n",
       "6  SMOTE Oversampling with StratifiedKFold CV   \n",
       "7  SMOTE Oversampling with StratifiedKFold CV   \n",
       "\n",
       "                                        Model  Accuracy    Recall  Precision  \\\n",
       "0  Logistic Regression with L2 Regularisation  0.997037  0.000000   0.000000   \n",
       "1  Logistic Regression with L1 Regularisation  0.997710  0.236906   0.960494   \n",
       "2                                     XGBoost  0.999361  0.818514   0.960000   \n",
       "3                                         KNN  0.998986  0.735688   0.904192   \n",
       "4  Logistic Regression with L2 Regularisation  0.917615  0.957473   0.033422   \n",
       "5  Logistic Regression with L1 Regularisation  0.997029  0.000000   0.000000   \n",
       "6                                     XGBoost  0.996546  0.995140   0.462190   \n",
       "7                                         KNN  0.992866  0.979951   0.291524   \n",
       "\n",
       "   ROC_value  Threshold  \n",
       "0   0.651530   0.461419  \n",
       "1   0.912695   0.009216  \n",
       "2   0.999893   0.025365  \n",
       "3   0.930506   0.200000  \n",
       "4   0.976485   0.503433  \n",
       "5   0.500000   1.500000  \n",
       "6   0.999232   0.527605  \n",
       "7   0.990656   0.600000  "
      ]
     },
     "execution_count": 67,
     "metadata": {},
     "output_type": "execute_result"
    }
   ],
   "source": [
    "df_results"
   ]
  },
  {
   "cell_type": "markdown",
   "metadata": {},
   "source": [
    "### Random Oversampling with StratifiedKFold Cross Validation"
   ]
  },
  {
   "cell_type": "code",
   "execution_count": 68,
   "metadata": {},
   "outputs": [],
   "source": [
    "from sklearn.model_selection import StratifiedKFold\n",
    "from imblearn.over_sampling import RandomOverSampler\n",
    "\n",
    "skf = StratifiedKFold(n_splits=5, random_state=None)\n",
    "\n",
    "for fold, (train_index, test_index) in enumerate(skf.split(x,y), 1):\n",
    "    x_train_over, x_test_over = x.iloc[train_index], x.iloc[test_index]\n",
    "    y_train_over, y_test_over = y.iloc[train_index], y.iloc[test_index]\n",
    "    ROS = RandomOverSampler(sampling_strategy=0.5)\n",
    "    x_over, y_over= ROS.fit_resample(x_train_over, y_train_over)\n",
    "  \n",
    "x_over = pd.DataFrame(data=x_over, columns=cols)"
   ]
  },
  {
   "cell_type": "code",
   "execution_count": 69,
   "metadata": {},
   "outputs": [],
   "source": [
    "Data_Imbalance_Handling = \"Random Oversampling with StratifiedKFold CV\""
   ]
  },
  {
   "cell_type": "code",
   "execution_count": 70,
   "metadata": {},
   "outputs": [
    {
     "name": "stdout",
     "output_type": "stream",
     "text": [
      "Logistic Regression with L1 And L2 Regularisation\n",
      "Max auc_roc for l1: 0.5\n",
      "Max auc_roc for l2: 0.9388765579211386\n",
      "Accuracy of Logistic model with l2 regularisation : 0.9123198371360196\n",
      "Confusion Matrix\n",
      "         P No  P Yes\n",
      "A No   504030  48406\n",
      "A Yes     176   1470\n",
      "------------------------------------------------------------\n",
      "Classification Report\n",
      "              precision    recall  f1-score   support\n",
      "\n",
      "           0       1.00      0.91      0.95    552436\n",
      "           1       0.03      0.89      0.06      1646\n",
      "\n",
      "    accuracy                           0.91    554082\n",
      "   macro avg       0.51      0.90      0.51    554082\n",
      "weighted avg       1.00      0.91      0.95    554082\n",
      "\n",
      "Accuracy of Logistic model with l1 regularisation : 0.9970293205698796\n",
      "Confusion Matrix\n",
      "         P No  P Yes\n",
      "A No   552436      0\n",
      "A Yes    1646      0\n",
      "------------------------------------------------------------\n",
      "Classification Report\n",
      "              precision    recall  f1-score   support\n",
      "\n",
      "           0       1.00      1.00      1.00    552436\n",
      "           1       0.00      0.00      0.00      1646\n",
      "\n",
      "    accuracy                           1.00    554082\n",
      "   macro avg       0.50      0.50      0.50    554082\n",
      "weighted avg       0.99      1.00      1.00    554082\n",
      "\n",
      "l2 roc_value: 0.9440982225751269\n",
      "l2 threshold: 0.4986476647042456\n",
      "ROC for the test dataset 94.4%\n"
     ]
    },
    {
     "data": {
      "image/png": "[encoded data removed]",
      "text/plain": [
       "<Figure size 640x480 with 1 Axes>"
      ]
     },
     "metadata": {},
     "output_type": "display_data"
    },
    {
     "name": "stdout",
     "output_type": "stream",
     "text": [
      "l1 roc_value: 0.5\n",
      "l1 threshold: 1.5\n",
      "ROC for the test dataset 50.0%\n"
     ]
    },
    {
     "data": {
      "image/png": "[encoded data removed]",
      "text/plain": [
       "<Figure size 640x480 with 1 Axes>"
      ]
     },
     "metadata": {},
     "output_type": "display_data"
    },
    {
     "name": "stdout",
     "output_type": "stream",
     "text": [
      "Time Taken by Model: --- 838.2999446392059 seconds ---\n"
     ]
    }
   ],
   "source": [
    "print(\"Logistic Regression with L1 And L2 Regularisation\")\n",
    "start_time = time.time()\n",
    "df_results = buildAndRunLogisticModels(df_results, Data_Imbalance_Handling, x_over, y_over, x_test, y_test)\n",
    "print(\"Time Taken by Model: --- %s seconds ---\" % (time.time() - start_time))"
   ]
  },
  {
   "cell_type": "code",
   "execution_count": 71,
   "metadata": {},
   "outputs": [
    {
     "name": "stdout",
     "output_type": "stream",
     "text": [
      "XGBoost Model\n",
      "Model Accuracy: 0.9965528567973694\n",
      "Confusion Matrix\n",
      "         P No  P Yes\n",
      "A No   550535   1901\n",
      "A Yes       9   1637\n",
      "------------------------------------------------------------\n",
      "Classification Report\n",
      "              precision    recall  f1-score   support\n",
      "\n",
      "           0       1.00      1.00      1.00    552436\n",
      "           1       0.46      0.99      0.63      1646\n",
      "\n",
      "    accuracy                           1.00    554082\n",
      "   macro avg       0.73      1.00      0.81    554082\n",
      "weighted avg       1.00      1.00      1.00    554082\n",
      "\n",
      "XGboost roc_value: 0.9979535777633928\n",
      "XGBoost threshold: 0.4166105389595032\n",
      "ROC for the test dataset 99.8%\n"
     ]
    },
    {
     "data": {
      "image/png": "[encoded data removed]",
      "text/plain": [
       "<Figure size 640x480 with 1 Axes>"
      ]
     },
     "metadata": {},
     "output_type": "display_data"
    },
    {
     "name": "stdout",
     "output_type": "stream",
     "text": [
      "Time Taken by Model: --- 119.93153285980225 seconds ---\n"
     ]
    }
   ],
   "source": [
    "print(\"XGBoost Model\")\n",
    "start_time = time.time()\n",
    "df_results = buildAndRunXGBoostModels(df_results, Data_Imbalance_Handling, x_over, y_over, x_test, y_test)\n",
    "print(\"Time Taken by Model: --- %s seconds ---\" % (time.time() - start_time))"
   ]
  },
  {
   "cell_type": "code",
   "execution_count": 72,
   "metadata": {},
   "outputs": [
    {
     "name": "stdout",
     "output_type": "stream",
     "text": [
      "KNN Model\n",
      "model score\n",
      "0.9984532975263589\n",
      "Confusion Matrix\n",
      "         P No  P Yes\n",
      "A No   551640    796\n",
      "A Yes      61   1585\n",
      "------------------------------------------------------------\n",
      "Classification Report\n",
      "              precision    recall  f1-score   support\n",
      "\n",
      "           0       1.00      1.00      1.00    552436\n",
      "           1       0.67      0.96      0.79      1646\n",
      "\n",
      "    accuracy                           1.00    554082\n",
      "   macro avg       0.83      0.98      0.89    554082\n",
      "weighted avg       1.00      1.00      1.00    554082\n",
      "\n",
      "KNN roc_value: 0.9843824824620581\n",
      "KNN threshold: 0.2\n",
      "ROC for the test dataset 98.4%\n"
     ]
    },
    {
     "data": {
      "image/png": "[encoded data removed]",
      "text/plain": [
       "<Figure size 640x480 with 1 Axes>"
      ]
     },
     "metadata": {},
     "output_type": "display_data"
    },
    {
     "name": "stdout",
     "output_type": "stream",
     "text": [
      "Time Taken by Model: --- 47.30444002151489 seconds ---\n"
     ]
    }
   ],
   "source": [
    "print(\"KNN Model\")\n",
    "start_time = time.time()\n",
    "df_results = buildAndRunKNNModels(df_results, Data_Imbalance_Handling, x_over, y_over, x_test, y_test)\n",
    "print(\"Time Taken by Model: --- %s seconds ---\" % (time.time() - start_time))"
   ]
  },
  {
   "cell_type": "code",
   "execution_count": 73,
   "metadata": {},
   "outputs": [
    {
     "data": {
      "text/html": [
       "<div>\n",
       "<style scoped>\n",
       "    .dataframe tbody tr th:only-of-type {\n",
       "        vertical-align: middle;\n",
       "    }\n",
       "\n",
       "    .dataframe tbody tr th {\n",
       "        vertical-align: top;\n",
       "    }\n",
       "\n",
       "    .dataframe thead th {\n",
       "        text-align: right;\n",
       "    }\n",
       "</style>\n",
       "<table border=\"1\" class=\"dataframe\">\n",
       "  <thead>\n",
       "    <tr style=\"text-align: right;\">\n",
       "      <th></th>\n",
       "      <th>Methodology</th>\n",
       "      <th>Model</th>\n",
       "      <th>Accuracy</th>\n",
       "      <th>Recall</th>\n",
       "      <th>Precision</th>\n",
       "      <th>ROC_value</th>\n",
       "      <th>Threshold</th>\n",
       "    </tr>\n",
       "  </thead>\n",
       "  <tbody>\n",
       "    <tr>\n",
       "      <th>0</th>\n",
       "      <td>StratifiedKFold Cross Validation</td>\n",
       "      <td>Logistic Regression with L2 Regularisation</td>\n",
       "      <td>0.997037</td>\n",
       "      <td>0.000000</td>\n",
       "      <td>0.000000</td>\n",
       "      <td>0.651530</td>\n",
       "      <td>0.461419</td>\n",
       "    </tr>\n",
       "    <tr>\n",
       "      <th>1</th>\n",
       "      <td>StratifiedKFold Cross Validation</td>\n",
       "      <td>Logistic Regression with L1 Regularisation</td>\n",
       "      <td>0.997710</td>\n",
       "      <td>0.236906</td>\n",
       "      <td>0.960494</td>\n",
       "      <td>0.912695</td>\n",
       "      <td>0.009216</td>\n",
       "    </tr>\n",
       "    <tr>\n",
       "      <th>2</th>\n",
       "      <td>StratifiedKFold Cross Validation</td>\n",
       "      <td>XGBoost</td>\n",
       "      <td>0.999361</td>\n",
       "      <td>0.818514</td>\n",
       "      <td>0.960000</td>\n",
       "      <td>0.999893</td>\n",
       "      <td>0.025365</td>\n",
       "    </tr>\n",
       "    <tr>\n",
       "      <th>3</th>\n",
       "      <td>StratifiedKFold Cross Validation</td>\n",
       "      <td>KNN</td>\n",
       "      <td>0.998986</td>\n",
       "      <td>0.735688</td>\n",
       "      <td>0.904192</td>\n",
       "      <td>0.930506</td>\n",
       "      <td>0.200000</td>\n",
       "    </tr>\n",
       "    <tr>\n",
       "      <th>4</th>\n",
       "      <td>SMOTE Oversampling with StratifiedKFold CV</td>\n",
       "      <td>Logistic Regression with L2 Regularisation</td>\n",
       "      <td>0.917615</td>\n",
       "      <td>0.957473</td>\n",
       "      <td>0.033422</td>\n",
       "      <td>0.976485</td>\n",
       "      <td>0.503433</td>\n",
       "    </tr>\n",
       "    <tr>\n",
       "      <th>5</th>\n",
       "      <td>SMOTE Oversampling with StratifiedKFold CV</td>\n",
       "      <td>Logistic Regression with L1 Regularisation</td>\n",
       "      <td>0.997029</td>\n",
       "      <td>0.000000</td>\n",
       "      <td>0.000000</td>\n",
       "      <td>0.500000</td>\n",
       "      <td>1.500000</td>\n",
       "    </tr>\n",
       "    <tr>\n",
       "      <th>6</th>\n",
       "      <td>SMOTE Oversampling with StratifiedKFold CV</td>\n",
       "      <td>XGBoost</td>\n",
       "      <td>0.996546</td>\n",
       "      <td>0.995140</td>\n",
       "      <td>0.462190</td>\n",
       "      <td>0.999232</td>\n",
       "      <td>0.527605</td>\n",
       "    </tr>\n",
       "    <tr>\n",
       "      <th>7</th>\n",
       "      <td>SMOTE Oversampling with StratifiedKFold CV</td>\n",
       "      <td>KNN</td>\n",
       "      <td>0.992866</td>\n",
       "      <td>0.979951</td>\n",
       "      <td>0.291524</td>\n",
       "      <td>0.990656</td>\n",
       "      <td>0.600000</td>\n",
       "    </tr>\n",
       "    <tr>\n",
       "      <th>8</th>\n",
       "      <td>Random Oversampling with StratifiedKFold CV</td>\n",
       "      <td>Logistic Regression with L2 Regularisation</td>\n",
       "      <td>0.912320</td>\n",
       "      <td>0.893074</td>\n",
       "      <td>0.029473</td>\n",
       "      <td>0.944098</td>\n",
       "      <td>0.498648</td>\n",
       "    </tr>\n",
       "    <tr>\n",
       "      <th>9</th>\n",
       "      <td>Random Oversampling with StratifiedKFold CV</td>\n",
       "      <td>Logistic Regression with L1 Regularisation</td>\n",
       "      <td>0.997029</td>\n",
       "      <td>0.000000</td>\n",
       "      <td>0.000000</td>\n",
       "      <td>0.500000</td>\n",
       "      <td>1.500000</td>\n",
       "    </tr>\n",
       "    <tr>\n",
       "      <th>10</th>\n",
       "      <td>Random Oversampling with StratifiedKFold CV</td>\n",
       "      <td>XGBoost</td>\n",
       "      <td>0.996553</td>\n",
       "      <td>0.994532</td>\n",
       "      <td>0.462691</td>\n",
       "      <td>0.997954</td>\n",
       "      <td>0.416611</td>\n",
       "    </tr>\n",
       "    <tr>\n",
       "      <th>11</th>\n",
       "      <td>Random Oversampling with StratifiedKFold CV</td>\n",
       "      <td>KNN</td>\n",
       "      <td>0.998453</td>\n",
       "      <td>0.962940</td>\n",
       "      <td>0.665687</td>\n",
       "      <td>0.984382</td>\n",
       "      <td>0.200000</td>\n",
       "    </tr>\n",
       "  </tbody>\n",
       "</table>\n",
       "</div>"
      ],
      "text/plain": [
       "                                    Methodology  \\\n",
       "0              StratifiedKFold Cross Validation   \n",
       "1              StratifiedKFold Cross Validation   \n",
       "2              StratifiedKFold Cross Validation   \n",
       "3              StratifiedKFold Cross Validation   \n",
       "4    SMOTE Oversampling with StratifiedKFold CV   \n",
       "5    SMOTE Oversampling with StratifiedKFold CV   \n",
       "6    SMOTE Oversampling with StratifiedKFold CV   \n",
       "7    SMOTE Oversampling with StratifiedKFold CV   \n",
       "8   Random Oversampling with StratifiedKFold CV   \n",
       "9   Random Oversampling with StratifiedKFold CV   \n",
       "10  Random Oversampling with StratifiedKFold CV   \n",
       "11  Random Oversampling with StratifiedKFold CV   \n",
       "\n",
       "                                         Model  Accuracy    Recall  Precision  \\\n",
       "0   Logistic Regression with L2 Regularisation  0.997037  0.000000   0.000000   \n",
       "1   Logistic Regression with L1 Regularisation  0.997710  0.236906   0.960494   \n",
       "2                                      XGBoost  0.999361  0.818514   0.960000   \n",
       "3                                          KNN  0.998986  0.735688   0.904192   \n",
       "4   Logistic Regression with L2 Regularisation  0.917615  0.957473   0.033422   \n",
       "5   Logistic Regression with L1 Regularisation  0.997029  0.000000   0.000000   \n",
       "6                                      XGBoost  0.996546  0.995140   0.462190   \n",
       "7                                          KNN  0.992866  0.979951   0.291524   \n",
       "8   Logistic Regression with L2 Regularisation  0.912320  0.893074   0.029473   \n",
       "9   Logistic Regression with L1 Regularisation  0.997029  0.000000   0.000000   \n",
       "10                                     XGBoost  0.996553  0.994532   0.462691   \n",
       "11                                         KNN  0.998453  0.962940   0.665687   \n",
       "\n",
       "    ROC_value  Threshold  \n",
       "0    0.651530   0.461419  \n",
       "1    0.912695   0.009216  \n",
       "2    0.999893   0.025365  \n",
       "3    0.930506   0.200000  \n",
       "4    0.976485   0.503433  \n",
       "5    0.500000   1.500000  \n",
       "6    0.999232   0.527605  \n",
       "7    0.990656   0.600000  \n",
       "8    0.944098   0.498648  \n",
       "9    0.500000   1.500000  \n",
       "10   0.997954   0.416611  \n",
       "11   0.984382   0.200000  "
      ]
     },
     "execution_count": 73,
     "metadata": {},
     "output_type": "execute_result"
    }
   ],
   "source": [
    "df_results"
   ]
  },
  {
   "cell_type": "markdown",
   "metadata": {},
   "source": [
    "### Hyperparameter Tuning"
   ]
  },
  {
   "cell_type": "code",
   "execution_count": 74,
   "metadata": {},
   "outputs": [],
   "source": [
    "from xgboost.sklearn import XGBClassifier\n",
    "from sklearn.model_selection import RandomizedSearchCV"
   ]
  },
  {
   "cell_type": "code",
   "execution_count": 75,
   "metadata": {},
   "outputs": [
    {
     "name": "stdout",
     "output_type": "stream",
     "text": [
      "Fitting 3 folds for each of 10 candidates, totalling 30 fits\n"
     ]
    },
    {
     "data": {
      "text/plain": [
       "{'p': 1, 'n_neighbors': 25, 'leaf_size': 25}"
      ]
     },
     "execution_count": 75,
     "metadata": {},
     "output_type": "execute_result"
    }
   ],
   "source": [
    "estimator = KNeighborsClassifier()\n",
    "\n",
    "parameters = {\n",
    "    'leaf_size': range(1,50),\n",
    "    'n_neighbors': range(1,30),\n",
    "    'p': [1,2]\n",
    "}\n",
    "\n",
    "randomized_search = RandomizedSearchCV(\n",
    "    estimator=estimator,\n",
    "    param_distributions=parameters,\n",
    "    scoring='roc_auc',\n",
    "    n_jobs=8,\n",
    "    cv=3,\n",
    "    verbose=True\n",
    ")\n",
    "\n",
    "randomized_search.fit(x_over, y_over)\n",
    "randomized_search.best_estimator_\n",
    "randomized_search.best_params_"
   ]
  },
  {
   "cell_type": "code",
   "execution_count": 76,
   "metadata": {},
   "outputs": [
    {
     "name": "stdout",
     "output_type": "stream",
     "text": [
      "Fitting 3 folds for each of 10 candidates, totalling 30 fits\n"
     ]
    },
    {
     "data": {
      "text/plain": [
       "{'n_estimators': 180, 'max_depth': 6, 'learning_rate': 0.1}"
      ]
     },
     "execution_count": 76,
     "metadata": {},
     "output_type": "execute_result"
    }
   ],
   "source": [
    "estimator = XGBClassifier(\n",
    "    objective= 'binary:logistic',\n",
    "    nthread=4,\n",
    "    seed=42\n",
    ")\n",
    "\n",
    "parameters = {\n",
    "    'max_depth': range(2, 10, 1),\n",
    "    'n_estimators': range(60, 220, 40),\n",
    "    'learning_rate': [0.1, 0.01, 0.05]\n",
    "}\n",
    "\n",
    "randomized_search = RandomizedSearchCV(\n",
    "    estimator=estimator,\n",
    "    param_distributions=parameters,\n",
    "    scoring='roc_auc',\n",
    "    n_jobs=8,\n",
    "    cv=3,\n",
    "    verbose=True\n",
    ")\n",
    "\n",
    "randomized_search.fit(x_over, y_over)\n",
    "randomized_search.best_estimator_\n",
    "randomized_search.best_params_"
   ]
  },
  {
   "cell_type": "code",
   "execution_count": 77,
   "metadata": {},
   "outputs": [
    {
     "name": "stdout",
     "output_type": "stream",
     "text": [
      "Model Accuracy: 0.9944105746080905\n",
      "RECALL: 0.9787363304981774\n",
      "PRECISION: 0.34474641557885727\n",
      "Confusion Matrix\n",
      "         P No  P Yes\n",
      "A No   549374   3062\n",
      "A Yes      35   1611\n",
      "------------------------------------------------------------\n",
      "Classification Report\n",
      "              precision    recall  f1-score   support\n",
      "\n",
      "           0       1.00      0.99      1.00    552436\n",
      "           1       0.34      0.98      0.51      1646\n",
      "\n",
      "    accuracy                           0.99    554082\n",
      "   macro avg       0.67      0.99      0.75    554082\n",
      "weighted avg       1.00      0.99      1.00    554082\n",
      "\n",
      "ROC_AUC_Score: 0.9912540948536898\n"
     ]
    }
   ],
   "source": [
    "knn = KNeighborsClassifier(p=1, n_neighbors=22, leaf_size=12)\n",
    "knn.fit(x_over,y_over)\n",
    "score = knn.score(x_test,y_test)\n",
    "\n",
    "#Accuracy\n",
    "y_pred = knn.predict(x_test)\n",
    "KNN_Accuracy = metrics.accuracy_score(y_pred=y_pred, y_true=y_test)\n",
    "print('Model Accuracy: {}'.format(KNN_Accuracy))\n",
    "\n",
    "#Recall of KNN model\n",
    "recall_knn = metrics.recall_score(y_pred=y_pred, y_true=y_test)\n",
    "print(\"RECALL: {}\".format(recall_knn))\n",
    "\n",
    "#Precision of KNN model\n",
    "precision_knn = metrics.precision_score(y_pred=y_pred, y_true=y_test)\n",
    "print(\"PRECISION: {}\".format(precision_knn))\n",
    "\n",
    "print(\"Confusion Matrix\")\n",
    "show_confusion_matrix(y_test, y_pred)\n",
    "print('-' * 60)\n",
    "print(\"Classification Report\")\n",
    "print(classification_report(y_test, y_pred))\n",
    "\n",
    "knn_probs = knn.predict_proba(x_test)[:, 1]\n",
    "\n",
    "# Calculate roc auc\n",
    "knn_roc_value = roc_auc_score(y_test, knn_probs)\n",
    "print(\"ROC_AUC_Score: {}\".format(knn_roc_value))"
   ]
  },
  {
   "cell_type": "code",
   "execution_count": 83,
   "metadata": {},
   "outputs": [
    {
     "name": "stdout",
     "output_type": "stream",
     "text": [
      "Model Accuracy: 0.9988268884388953\n",
      "RECALL: 0.9981773997569866\n",
      "PRECISION: 0.7174672489082969\n",
      "Confusion Matrix\n",
      "         P No  P Yes\n",
      "A No   551789    647\n",
      "A Yes       3   1643\n",
      "------------------------------------------------------------\n",
      "Classification Report\n",
      "              precision    recall  f1-score   support\n",
      "\n",
      "           0       1.00      1.00      1.00    552436\n",
      "           1       0.72      1.00      0.83      1646\n",
      "\n",
      "    accuracy                           1.00    554082\n",
      "   macro avg       0.86      1.00      0.92    554082\n",
      "weighted avg       1.00      1.00      1.00    554082\n",
      "\n",
      "ROC_AUC_Score: 0.9999720579234672\n"
     ]
    }
   ],
   "source": [
    "XGBmodel = XGBClassifier(n_estimators=180, max_depth=8, learning_rate=0.1)\n",
    "XGBmodel.fit(x_over, y_over)\n",
    "y_pred = XGBmodel.predict(x_test)\n",
    "\n",
    "XGB_test_score = XGBmodel.score(x_test, y_test)\n",
    "print('Model Accuracy: {}'.format(XGB_test_score))\n",
    "\n",
    "#Recall of XGBoost model\n",
    "recall_xgb = metrics.recall_score(y_pred=y_pred, y_true=y_test)\n",
    "print(\"RECALL: {}\".format(recall_xgb))\n",
    "\n",
    "#Precision of XGBoost model\n",
    "precision_xgb = metrics.precision_score(y_pred=y_pred, y_true=y_test)\n",
    "print(\"PRECISION: {}\".format(precision_xgb))\n",
    "\n",
    "print(\"Confusion Matrix\")\n",
    "show_confusion_matrix(y_test, y_pred)\n",
    "print('-' * 60)\n",
    "print(\"Classification Report\")\n",
    "print(classification_report(y_test, y_pred))\n",
    "\n",
    "# Probabilities for each class\n",
    "XGB_probs = XGBmodel.predict_proba(x_test)[:, 1]\n",
    "\n",
    "# Calculate roc auc\n",
    "XGB_roc_value = roc_auc_score(y_test, XGB_probs)\n",
    "print(\"ROC_AUC_Score: {}\".format(XGB_roc_value))"
   ]
  },
  {
   "cell_type": "code",
   "execution_count": 90,
   "metadata": {},
   "outputs": [
    {
     "data": {
      "text/plain": [
       "array([0.06746731, 0.23883581, 0.44735843, 0.00760754, 0.1803395 ,\n",
       "       0.05839138, 0.        ], dtype=float32)"
      ]
     },
     "execution_count": 90,
     "metadata": {},
     "output_type": "execute_result"
    }
   ],
   "source": [
    "XGBmodel.feature_importances_"
   ]
  },
  {
   "cell_type": "code",
   "execution_count": 99,
   "metadata": {},
   "outputs": [
    {
     "data": {
      "image/png": "[encoded data removed]",
      "text/plain": [
       "<Figure size 800x600 with 1 Axes>"
      ]
     },
     "metadata": {},
     "output_type": "display_data"
    }
   ],
   "source": [
    "feature_importance = XGBmodel.feature_importances_\n",
    "sorted_idx = np.argsort(feature_importance)\n",
    "fig = plt.figure(figsize=(8, 6))\n",
    "plt.barh(range(len(sorted_idx)), feature_importance[sorted_idx], align='center')\n",
    "plt.yticks(range(len(sorted_idx)), np.array(x.columns)[sorted_idx])\n",
    "plt.title('Feature Importance')\n",
    "plt.show()"
   ]
  },
  {
   "cell_type": "code",
   "execution_count": null,
   "metadata": {},
   "outputs": [],
   "source": []
  }
 ],
 "metadata": {
  "kernelspec": {
   "display_name": "Python 3 (ipykernel)",
   "language": "python",
   "name": "python3"
  },
  "language_info": {
   "codemirror_mode": {
    "name": "ipython",
    "version": 3
   },
   "file_extension": ".py",
   "mimetype": "text/x-python",
   "name": "python",
   "nbconvert_exporter": "python",
   "pygments_lexer": "ipython3",
   "version": "3.10.8"
  }
 },
 "nbformat": 4,
 "nbformat_minor": 4
}
